{
 "cells": [
  {
   "cell_type": "markdown",
   "metadata": {},
   "source": [
    "# test network"
   ]
  },
  {
   "cell_type": "code",
   "execution_count": 1,
   "metadata": {
    "ExecuteTime": {
     "end_time": "2020-05-29T12:19:02.318348Z",
     "start_time": "2020-05-29T12:18:58.907302Z"
    }
   },
   "outputs": [
    {
     "name": "stderr",
     "output_type": "stream",
     "text": [
      "/home/luckie/anaconda2/envs/py37/lib/python3.7/site-packages/sklearn/utils/deprecation.py:143: FutureWarning: The sklearn.metrics.ranking module is  deprecated in version 0.22 and will be removed in version 0.24. The corresponding classes / functions should instead be imported from sklearn.metrics. Anything that cannot be imported from sklearn.metrics is now part of the private API.\n",
      "  warnings.warn(message, FutureWarning)\n",
      "Using TensorFlow backend.\n",
      "/home/luckie/anaconda2/envs/py37/lib/python3.7/site-packages/tensorflow/python/framework/dtypes.py:516: FutureWarning: Passing (type, 1) or '1type' as a synonym of type is deprecated; in a future version of numpy, it will be understood as (type, (1,)) / '(1,)type'.\n",
      "  _np_qint8 = np.dtype([(\"qint8\", np.int8, 1)])\n",
      "/home/luckie/anaconda2/envs/py37/lib/python3.7/site-packages/tensorflow/python/framework/dtypes.py:517: FutureWarning: Passing (type, 1) or '1type' as a synonym of type is deprecated; in a future version of numpy, it will be understood as (type, (1,)) / '(1,)type'.\n",
      "  _np_quint8 = np.dtype([(\"quint8\", np.uint8, 1)])\n",
      "/home/luckie/anaconda2/envs/py37/lib/python3.7/site-packages/tensorflow/python/framework/dtypes.py:518: FutureWarning: Passing (type, 1) or '1type' as a synonym of type is deprecated; in a future version of numpy, it will be understood as (type, (1,)) / '(1,)type'.\n",
      "  _np_qint16 = np.dtype([(\"qint16\", np.int16, 1)])\n",
      "/home/luckie/anaconda2/envs/py37/lib/python3.7/site-packages/tensorflow/python/framework/dtypes.py:519: FutureWarning: Passing (type, 1) or '1type' as a synonym of type is deprecated; in a future version of numpy, it will be understood as (type, (1,)) / '(1,)type'.\n",
      "  _np_quint16 = np.dtype([(\"quint16\", np.uint16, 1)])\n",
      "/home/luckie/anaconda2/envs/py37/lib/python3.7/site-packages/tensorflow/python/framework/dtypes.py:520: FutureWarning: Passing (type, 1) or '1type' as a synonym of type is deprecated; in a future version of numpy, it will be understood as (type, (1,)) / '(1,)type'.\n",
      "  _np_qint32 = np.dtype([(\"qint32\", np.int32, 1)])\n",
      "/home/luckie/anaconda2/envs/py37/lib/python3.7/site-packages/tensorflow/python/framework/dtypes.py:525: FutureWarning: Passing (type, 1) or '1type' as a synonym of type is deprecated; in a future version of numpy, it will be understood as (type, (1,)) / '(1,)type'.\n",
      "  np_resource = np.dtype([(\"resource\", np.ubyte, 1)])\n",
      "/home/luckie/anaconda2/envs/py37/lib/python3.7/site-packages/tensorboard/compat/tensorflow_stub/dtypes.py:541: FutureWarning: Passing (type, 1) or '1type' as a synonym of type is deprecated; in a future version of numpy, it will be understood as (type, (1,)) / '(1,)type'.\n",
      "  _np_qint8 = np.dtype([(\"qint8\", np.int8, 1)])\n",
      "/home/luckie/anaconda2/envs/py37/lib/python3.7/site-packages/tensorboard/compat/tensorflow_stub/dtypes.py:542: FutureWarning: Passing (type, 1) or '1type' as a synonym of type is deprecated; in a future version of numpy, it will be understood as (type, (1,)) / '(1,)type'.\n",
      "  _np_quint8 = np.dtype([(\"quint8\", np.uint8, 1)])\n",
      "/home/luckie/anaconda2/envs/py37/lib/python3.7/site-packages/tensorboard/compat/tensorflow_stub/dtypes.py:543: FutureWarning: Passing (type, 1) or '1type' as a synonym of type is deprecated; in a future version of numpy, it will be understood as (type, (1,)) / '(1,)type'.\n",
      "  _np_qint16 = np.dtype([(\"qint16\", np.int16, 1)])\n",
      "/home/luckie/anaconda2/envs/py37/lib/python3.7/site-packages/tensorboard/compat/tensorflow_stub/dtypes.py:544: FutureWarning: Passing (type, 1) or '1type' as a synonym of type is deprecated; in a future version of numpy, it will be understood as (type, (1,)) / '(1,)type'.\n",
      "  _np_quint16 = np.dtype([(\"quint16\", np.uint16, 1)])\n",
      "/home/luckie/anaconda2/envs/py37/lib/python3.7/site-packages/tensorboard/compat/tensorflow_stub/dtypes.py:545: FutureWarning: Passing (type, 1) or '1type' as a synonym of type is deprecated; in a future version of numpy, it will be understood as (type, (1,)) / '(1,)type'.\n",
      "  _np_qint32 = np.dtype([(\"qint32\", np.int32, 1)])\n",
      "/home/luckie/anaconda2/envs/py37/lib/python3.7/site-packages/tensorboard/compat/tensorflow_stub/dtypes.py:550: FutureWarning: Passing (type, 1) or '1type' as a synonym of type is deprecated; in a future version of numpy, it will be understood as (type, (1,)) / '(1,)type'.\n",
      "  np_resource = np.dtype([(\"resource\", np.ubyte, 1)])\n"
     ]
    }
   ],
   "source": [
    "import os\n",
    "import sys\n",
    "# from tensorboardX import SummaryWriter\n",
    "import shutil\n",
    "import argparse\n",
    "import logging\n",
    "import time\n",
    "import random\n",
    "import numpy as np\n",
    "import pandas as pd\n",
    "from tensorboardX import SummaryWriter\n",
    "\n",
    "import torch\n",
    "from torch import nn\n",
    "import torch.optim as optim\n",
    "from torchvision import transforms\n",
    "import torch.nn.functional as F\n",
    "import torch.backends.cudnn as cudnn\n",
    "from torch.utils.data import DataLoader\n",
    "from torchvision.utils import make_grid\n",
    "import pretrainedmodels\n",
    "\n",
    "from networks.models import DenseNet121,DenseNet161\n",
    "from utils import losses, ramps\n",
    "from utils.metrics import compute_AUCs\n",
    "from utils.metric_logger import MetricLogger\n",
    "from dataloaders import  dataset\n",
    "from dataloaders import chest_xray_14\n",
    "from dataloaders.dataset import TwoStreamBatchSampler\n",
    "from utils.util import get_timestamp\n",
    "from validation import epochVal, epochVal_metrics"
   ]
  },
  {
   "cell_type": "code",
   "execution_count": 8,
   "metadata": {
    "ExecuteTime": {
     "end_time": "2020-05-29T12:27:33.609898Z",
     "start_time": "2020-05-29T12:27:33.589856Z"
    }
   },
   "outputs": [
    {
     "name": "stdout",
     "output_type": "stream",
     "text": [
      "single label  Total # images:494, labels:494\n"
     ]
    }
   ],
   "source": [
    "normalize = transforms.Normalize([0.605, 0.605, 0.605],\n",
    "                                     [0.156, 0.156, 0.156])\n",
    "test_dataset = dataset.CheXpertDataset(root_dir='../dataset/hip/training_data/',\n",
    "                                      csv_file='../dataset/hip/testing_fold1.csv',\n",
    "                                      transform=transforms.Compose([\n",
    "                                          transforms.Resize((256, 256)),\n",
    "                                          transforms.ToTensor(),\n",
    "                                          normalize,\n",
    "                                      ]))\n",
    "test_dataloader = DataLoader(dataset=test_dataset, batch_size=1,\n",
    "                                shuffle=True, num_workers=8, pin_memory=True)"
   ]
  },
  {
   "cell_type": "code",
   "execution_count": 13,
   "metadata": {
    "ExecuteTime": {
     "end_time": "2020-05-29T12:40:14.743461Z",
     "start_time": "2020-05-29T12:40:14.217113Z"
    }
   },
   "outputs": [],
   "source": [
    "a = torch.load(\"../model/0528_hip_test_label_rate09/checkpoint/epoch_12.pth\")"
   ]
  },
  {
   "cell_type": "code",
   "execution_count": 17,
   "metadata": {
    "ExecuteTime": {
     "end_time": "2020-05-29T12:55:32.798518Z",
     "start_time": "2020-05-29T12:55:32.792555Z"
    }
   },
   "outputs": [
    {
     "data": {
      "text/plain": [
       "dict_keys(['epoch', 'global_step', 'state_dict', 'ema_state_dict', 'optimizer', 'epochs'])"
      ]
     },
     "execution_count": 17,
     "metadata": {},
     "output_type": "execute_result"
    }
   ],
   "source": [
    "a.keys()"
   ]
  },
  {
   "cell_type": "code",
   "execution_count": 19,
   "metadata": {
    "ExecuteTime": {
     "end_time": "2020-05-29T12:58:24.560103Z",
     "start_time": "2020-05-29T12:58:23.758560Z"
    }
   },
   "outputs": [
    {
     "data": {
      "text/plain": [
       "<All keys matched successfully>"
      ]
     },
     "execution_count": 19,
     "metadata": {},
     "output_type": "execute_result"
    }
   ],
   "source": [
    "net = DenseNet121(out_size=3, mode='U-Ones', drop_rate=0.2)\n",
    "net = torch.nn.DataParallel(net)\n",
    "net = net.cuda()\n",
    "checkpoint = torch.load(\"../model/0528_hip_test_label_rate09/checkpoint/epoch_12.pth\")\n",
    "net.load_state_dict(checkpoint['state_dict'])\n"
   ]
  },
  {
   "cell_type": "code",
   "execution_count": 40,
   "metadata": {
    "ExecuteTime": {
     "end_time": "2020-05-29T13:23:10.901221Z",
     "start_time": "2020-05-29T13:23:01.367348Z"
    }
   },
   "outputs": [
    {
     "name": "stdout",
     "output_type": "stream",
     "text": [
      "gt label: tensor([1], device='cuda:0')\n",
      "pred_label: tensor([2], device='cuda:0')\n",
      "gt label: tensor([1], device='cuda:0')\n",
      "pred_label: tensor([1], device='cuda:0')\n",
      "gt label: tensor([1], device='cuda:0')\n",
      "pred_label: tensor([0], device='cuda:0')\n",
      "gt label: tensor([1], device='cuda:0')\n",
      "pred_label: tensor([0], device='cuda:0')\n",
      "gt label: tensor([1], device='cuda:0')\n",
      "pred_label: tensor([0], device='cuda:0')\n",
      "gt label: tensor([1], device='cuda:0')\n",
      "pred_label: tensor([0], device='cuda:0')\n",
      "gt label: tensor([1], device='cuda:0')\n",
      "pred_label: tensor([1], device='cuda:0')\n",
      "gt label: tensor([1], device='cuda:0')\n",
      "pred_label: tensor([2], device='cuda:0')\n",
      "gt label: tensor([1], device='cuda:0')\n",
      "pred_label: tensor([0], device='cuda:0')\n",
      "gt label: tensor([1], device='cuda:0')\n",
      "pred_label: tensor([0], device='cuda:0')\n",
      "gt label: tensor([1], device='cuda:0')\n",
      "pred_label: tensor([1], device='cuda:0')\n",
      "gt label: tensor([1], device='cuda:0')\n",
      "pred_label: tensor([0], device='cuda:0')\n",
      "gt label: tensor([1], device='cuda:0')\n",
      "pred_label: tensor([0], device='cuda:0')\n",
      "gt label: tensor([1], device='cuda:0')\n",
      "pred_label: tensor([2], device='cuda:0')\n",
      "gt label: tensor([1], device='cuda:0')\n",
      "pred_label: tensor([0], device='cuda:0')\n",
      "gt label: tensor([1], device='cuda:0')\n",
      "pred_label: tensor([0], device='cuda:0')\n",
      "gt label: tensor([1], device='cuda:0')\n",
      "pred_label: tensor([1], device='cuda:0')\n",
      "gt label: tensor([1], device='cuda:0')\n",
      "pred_label: tensor([1], device='cuda:0')\n",
      "gt label: tensor([1], device='cuda:0')\n",
      "pred_label: tensor([1], device='cuda:0')\n",
      "gt label: tensor([1], device='cuda:0')\n",
      "pred_label: tensor([0], device='cuda:0')\n",
      "gt label: tensor([1], device='cuda:0')\n",
      "pred_label: tensor([1], device='cuda:0')\n",
      "gt label: tensor([1], device='cuda:0')\n",
      "pred_label: tensor([1], device='cuda:0')\n",
      "gt label: tensor([1], device='cuda:0')\n",
      "pred_label: tensor([1], device='cuda:0')\n",
      "gt label: tensor([1], device='cuda:0')\n",
      "pred_label: tensor([0], device='cuda:0')\n",
      "gt label: tensor([1], device='cuda:0')\n",
      "pred_label: tensor([0], device='cuda:0')\n",
      "gt label: tensor([1], device='cuda:0')\n",
      "pred_label: tensor([0], device='cuda:0')\n",
      "gt label: tensor([1], device='cuda:0')\n",
      "pred_label: tensor([0], device='cuda:0')\n",
      "gt label: tensor([1], device='cuda:0')\n",
      "pred_label: tensor([0], device='cuda:0')\n",
      "gt label: tensor([1], device='cuda:0')\n",
      "pred_label: tensor([0], device='cuda:0')\n",
      "gt label: tensor([1], device='cuda:0')\n",
      "pred_label: tensor([0], device='cuda:0')\n",
      "gt label: tensor([1], device='cuda:0')\n",
      "pred_label: tensor([0], device='cuda:0')\n",
      "gt label: tensor([1], device='cuda:0')\n",
      "pred_label: tensor([1], device='cuda:0')\n",
      "gt label: tensor([1], device='cuda:0')\n",
      "pred_label: tensor([0], device='cuda:0')\n",
      "gt label: tensor([1], device='cuda:0')\n",
      "pred_label: tensor([1], device='cuda:0')\n",
      "gt label: tensor([1], device='cuda:0')\n",
      "pred_label: tensor([0], device='cuda:0')\n",
      "gt label: tensor([1], device='cuda:0')\n",
      "pred_label: tensor([0], device='cuda:0')\n",
      "gt label: tensor([1], device='cuda:0')\n",
      "pred_label: tensor([0], device='cuda:0')\n",
      "gt label: tensor([1], device='cuda:0')\n",
      "pred_label: tensor([2], device='cuda:0')\n",
      "gt label: tensor([1], device='cuda:0')\n",
      "pred_label: tensor([0], device='cuda:0')\n",
      "gt label: tensor([1], device='cuda:0')\n",
      "pred_label: tensor([0], device='cuda:0')\n",
      "gt label: tensor([1], device='cuda:0')\n",
      "pred_label: tensor([2], device='cuda:0')\n",
      "gt label: tensor([1], device='cuda:0')\n",
      "pred_label: tensor([0], device='cuda:0')\n",
      "gt label: tensor([1], device='cuda:0')\n",
      "pred_label: tensor([0], device='cuda:0')\n",
      "gt label: tensor([1], device='cuda:0')\n",
      "pred_label: tensor([0], device='cuda:0')\n",
      "gt label: tensor([1], device='cuda:0')\n",
      "pred_label: tensor([0], device='cuda:0')\n",
      "gt label: tensor([1], device='cuda:0')\n",
      "pred_label: tensor([0], device='cuda:0')\n",
      "gt label: tensor([1], device='cuda:0')\n",
      "pred_label: tensor([1], device='cuda:0')\n",
      "gt label: tensor([1], device='cuda:0')\n",
      "pred_label: tensor([2], device='cuda:0')\n",
      "gt label: tensor([1], device='cuda:0')\n",
      "pred_label: tensor([2], device='cuda:0')\n",
      "gt label: tensor([1], device='cuda:0')\n",
      "pred_label: tensor([0], device='cuda:0')\n",
      "gt label: tensor([1], device='cuda:0')\n",
      "pred_label: tensor([0], device='cuda:0')\n",
      "gt label: tensor([1], device='cuda:0')\n",
      "pred_label: tensor([2], device='cuda:0')\n",
      "gt label: tensor([1], device='cuda:0')\n",
      "pred_label: tensor([1], device='cuda:0')\n",
      "gt label: tensor([1], device='cuda:0')\n",
      "pred_label: tensor([0], device='cuda:0')\n",
      "gt label: tensor([1], device='cuda:0')\n",
      "pred_label: tensor([0], device='cuda:0')\n",
      "gt label: tensor([1], device='cuda:0')\n",
      "pred_label: tensor([1], device='cuda:0')\n",
      "gt label: tensor([1], device='cuda:0')\n",
      "pred_label: tensor([1], device='cuda:0')\n",
      "gt label: tensor([1], device='cuda:0')\n",
      "pred_label: tensor([0], device='cuda:0')\n",
      "gt label: tensor([1], device='cuda:0')\n",
      "pred_label: tensor([1], device='cuda:0')\n",
      "gt label: tensor([1], device='cuda:0')\n",
      "pred_label: tensor([0], device='cuda:0')\n",
      "gt label: tensor([1], device='cuda:0')\n",
      "pred_label: tensor([0], device='cuda:0')\n",
      "gt label: tensor([1], device='cuda:0')\n",
      "pred_label: tensor([0], device='cuda:0')\n",
      "gt label: tensor([1], device='cuda:0')\n",
      "pred_label: tensor([0], device='cuda:0')\n",
      "gt label: tensor([1], device='cuda:0')\n",
      "pred_label: tensor([0], device='cuda:0')\n"
     ]
    }
   ],
   "source": [
    "net.eval()\n",
    "count = 0\n",
    "total = 0\n",
    "for i, (study, _, image, label) in enumerate(test_dataloader):\n",
    "    #print(\"image:\",study)\n",
    "    image,label = image.cuda(),label.cuda()\n",
    "    gt_label = torch.max(label, 1)[1]\n",
    "    if gt_label == 1:\n",
    "        total +=1\n",
    "        print(\"gt label:\",gt_label)\n",
    "        _,output = net(image)\n",
    "        pred_label = torch.max(output, 1)[1]\n",
    "        if pred_label == gt_label:\n",
    "            count+=1\n",
    "        print(\"pred_label:\",pred_label)"
   ]
  },
  {
   "cell_type": "code",
   "execution_count": 38,
   "metadata": {
    "ExecuteTime": {
     "end_time": "2020-05-29T13:21:13.962734Z",
     "start_time": "2020-05-29T13:21:13.954344Z"
    }
   },
   "outputs": [
    {
     "data": {
      "text/plain": [
       "16"
      ]
     },
     "execution_count": 38,
     "metadata": {},
     "output_type": "execute_result"
    }
   ],
   "source": [
    "count"
   ]
  },
  {
   "cell_type": "code",
   "execution_count": 35,
   "metadata": {
    "ExecuteTime": {
     "end_time": "2020-05-29T13:17:04.241069Z",
     "start_time": "2020-05-29T13:17:04.232671Z"
    }
   },
   "outputs": [
    {
     "data": {
      "text/plain": [
       "494"
      ]
     },
     "execution_count": 35,
     "metadata": {},
     "output_type": "execute_result"
    }
   ],
   "source": [
    "len(test_dataset)"
   ]
  },
  {
   "cell_type": "code",
   "execution_count": 39,
   "metadata": {
    "ExecuteTime": {
     "end_time": "2020-05-29T13:21:26.269959Z",
     "start_time": "2020-05-29T13:21:26.264360Z"
    }
   },
   "outputs": [
    {
     "data": {
      "text/plain": [
       "64"
      ]
     },
     "execution_count": 39,
     "metadata": {},
     "output_type": "execute_result"
    }
   ],
   "source": [
    "total"
   ]
  },
  {
   "cell_type": "code",
   "execution_count": null,
   "metadata": {},
   "outputs": [],
   "source": []
  }
 ],
 "metadata": {
  "kernelspec": {
   "display_name": "'Python Interactive'",
   "language": "python",
   "name": "e9217d90-e63e-4b01-86e9-b3407b16b732"
  },
  "toc": {
   "base_numbering": 1,
   "nav_menu": {},
   "number_sections": true,
   "sideBar": true,
   "skip_h1_title": false,
   "title_cell": "Table of Contents",
   "title_sidebar": "Contents",
   "toc_cell": false,
   "toc_position": {},
   "toc_section_display": true,
   "toc_window_display": false
  },
  "varInspector": {
   "cols": {
    "lenName": 16,
    "lenType": 16,
    "lenVar": 40
   },
   "kernels_config": {
    "python": {
     "delete_cmd_postfix": "",
     "delete_cmd_prefix": "del ",
     "library": "var_list.py",
     "varRefreshCmd": "print(var_dic_list())"
    },
    "r": {
     "delete_cmd_postfix": ") ",
     "delete_cmd_prefix": "rm(",
     "library": "var_list.r",
     "varRefreshCmd": "cat(var_dic_list()) "
    }
   },
   "types_to_exclude": [
    "module",
    "function",
    "builtin_function_or_method",
    "instance",
    "_Feature"
   ],
   "window_display": false
  }
 },
 "nbformat": 4,
 "nbformat_minor": 4
}
