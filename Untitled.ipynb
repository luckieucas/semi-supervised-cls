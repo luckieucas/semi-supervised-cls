{
 "cells": [
  {
   "cell_type": "markdown",
   "metadata": {},
   "source": [
    "# test network"
   ]
  },
  {
   "cell_type": "code",
   "execution_count": 48,
   "metadata": {
    "ExecuteTime": {
     "end_time": "2020-05-30T01:47:52.699478Z",
     "start_time": "2020-05-30T01:47:52.679912Z"
    }
   },
   "outputs": [],
   "source": [
    "import os\n",
    "import sys\n",
    "# from tensorboardX import SummaryWriter\n",
    "import shutil\n",
    "import argparse\n",
    "import logging\n",
    "import time\n",
    "import random\n",
    "import numpy as np\n",
    "import pandas as pd\n",
    "from tensorboardX import SummaryWriter\n",
    "\n",
    "import torch\n",
    "from torch import nn\n",
    "import torch.optim as optim\n",
    "from torchvision import transforms\n",
    "import torch.nn.functional as F\n",
    "import torch.backends.cudnn as cudnn\n",
    "from torch.utils.data import DataLoader\n",
    "from torchvision.utils import make_grid\n",
    "import pretrainedmodels\n",
    "\n",
    "from networks.models import DenseNet121,DenseNet161\n",
    "from utils import losses, ramps\n",
    "from utils.metrics import compute_AUCs\n",
    "from utils.metric_logger import MetricLogger\n",
    "from dataloaders import  dataset\n",
    "from dataloaders import chest_xray_14\n",
    "from dataloaders.dataset import TwoStreamBatchSampler\n",
    "from utils.util import get_timestamp\n",
    "from validation import epochVal, epochVal_metrics"
   ]
  },
  {
   "cell_type": "code",
   "execution_count": 51,
   "metadata": {
    "ExecuteTime": {
     "end_time": "2020-05-30T01:50:42.373594Z",
     "start_time": "2020-05-30T01:50:42.349967Z"
    }
   },
   "outputs": [
    {
     "name": "stdout",
     "output_type": "stream",
     "text": [
      "single label  Total # images:494, labels:494\n",
      "train_dataset len: 494\n",
      "labeled_num: 444\n"
     ]
    }
   ],
   "source": [
    "normalize = transforms.Normalize([0.605, 0.605, 0.605],\n",
    "                                     [0.156, 0.156, 0.156])\n",
    "train_dataset = dataset.CheXpertDataset(root_dir='../dataset/hip/training_data/',\n",
    "                                        csv_file='../dataset/hip/testing_fold1.csv',\n",
    "                                        transform=dataset.TransformTwice(transforms.Compose([\n",
    "                                            transforms.Resize((224, 224)),\n",
    "                                            transforms.RandomAffine(degrees=10, translate=(0.02, 0.02)),\n",
    "                                            transforms.RandomHorizontalFlip(),\n",
    "                                            # transforms.ColorJitter(brightness=0.4, contrast=0.4, saturation=0.4, hue=0.1),\n",
    "                                            # transforms.RandomRotation(10),\n",
    "                                            # transforms.RandomResizedCrop(224),\n",
    "                                            transforms.ToTensor(),\n",
    "                                            normalize,\n",
    "                                        ])))\n",
    "print(\"train_dataset len:\",len(train_dataset))\n",
    "train_dataset_num = len(train_dataset)\n",
    "labeled_num = int(train_dataset_num*0.9)\n",
    "print(\"labeled_num:\",labeled_num)\n",
    "labeled_idxs = list(range(labeled_num))\n",
    "unlabeled_idxs = list(range(labeled_num, train_dataset_num))\n",
    "batch_size = 16\n",
    "labeled_bs = 4\n",
    "batch_sampler = TwoStreamBatchSampler(labeled_idxs, unlabeled_idxs, batch_size, batch_size-labeled_bs)\n",
    "def worker_init_fn(worker_id):\n",
    "    random.seed(20000+worker_id)\n",
    "train_dataloader = DataLoader(dataset=train_dataset, batch_sampler=batch_sampler,\n",
    "                                  num_workers=8, pin_memory=True, worker_init_fn=worker_init_fn)"
   ]
  },
  {
   "cell_type": "code",
   "execution_count": 52,
   "metadata": {
    "ExecuteTime": {
     "end_time": "2020-05-30T01:52:14.322893Z",
     "start_time": "2020-05-30T01:52:12.675154Z"
    }
   },
   "outputs": [
    {
     "name": "stdout",
     "output_type": "stream",
     "text": [
      "label batch: tensor([[1., 0., 0.],\n",
      "        [0., 0., 1.],\n",
      "        [1., 0., 0.],\n",
      "        [0., 0., 1.],\n",
      "        [0., 1., 0.],\n",
      "        [0., 1., 0.],\n",
      "        [0., 1., 0.],\n",
      "        [0., 1., 0.],\n",
      "        [0., 1., 0.],\n",
      "        [0., 1., 0.],\n",
      "        [0., 1., 0.],\n",
      "        [0., 1., 0.],\n",
      "        [0., 1., 0.],\n",
      "        [0., 1., 0.],\n",
      "        [0., 1., 0.],\n",
      "        [0., 1., 0.]])\n"
     ]
    },
    {
     "ename": "NameError",
     "evalue": "name 'breal' is not defined",
     "output_type": "error",
     "traceback": [
      "\u001b[0;31m---------------------------------------------------------------------------\u001b[0m",
      "\u001b[0;31mNameError\u001b[0m                                 Traceback (most recent call last)",
      "\u001b[0;32m<ipython-input-52-768981f32dae>\u001b[0m in \u001b[0;36m<module>\u001b[0;34m\u001b[0m\n\u001b[1;32m      3\u001b[0m     \u001b[0;31m# print('fetch data cost {}'.format(time2-time1))\u001b[0m\u001b[0;34m\u001b[0m\u001b[0;34m\u001b[0m\u001b[0;34m\u001b[0m\u001b[0m\n\u001b[1;32m      4\u001b[0m     \u001b[0mprint\u001b[0m\u001b[0;34m(\u001b[0m\u001b[0;34m\"label batch:\"\u001b[0m\u001b[0;34m,\u001b[0m\u001b[0mlabel_batch\u001b[0m\u001b[0;34m)\u001b[0m\u001b[0;34m\u001b[0m\u001b[0;34m\u001b[0m\u001b[0m\n\u001b[0;32m----> 5\u001b[0;31m     \u001b[0mbreal\u001b[0m\u001b[0;34m\u001b[0m\u001b[0;34m\u001b[0m\u001b[0m\n\u001b[0m\u001b[1;32m      6\u001b[0m     \u001b[0mimage_batch\u001b[0m\u001b[0;34m,\u001b[0m \u001b[0mema_image_batch\u001b[0m\u001b[0;34m,\u001b[0m \u001b[0mlabel_batch\u001b[0m \u001b[0;34m=\u001b[0m \u001b[0mimage_batch\u001b[0m\u001b[0;34m.\u001b[0m\u001b[0mcuda\u001b[0m\u001b[0;34m(\u001b[0m\u001b[0;34m)\u001b[0m\u001b[0;34m,\u001b[0m \u001b[0mema_image_batch\u001b[0m\u001b[0;34m.\u001b[0m\u001b[0mcuda\u001b[0m\u001b[0;34m(\u001b[0m\u001b[0;34m)\u001b[0m\u001b[0;34m,\u001b[0m \u001b[0mlabel_batch\u001b[0m\u001b[0;34m.\u001b[0m\u001b[0mcuda\u001b[0m\u001b[0;34m(\u001b[0m\u001b[0;34m)\u001b[0m\u001b[0;34m\u001b[0m\u001b[0;34m\u001b[0m\u001b[0m\n",
      "\u001b[0;31mNameError\u001b[0m: name 'breal' is not defined"
     ]
    }
   ],
   "source": [
    "for i, (_,_, (image_batch, ema_image_batch), label_batch) in enumerate(train_dataloader):\n",
    "    time2 = time.time()\n",
    "    # print('fetch data cost {}'.format(time2-time1))\n",
    "    print(\"label batch:\",label_batch)\n",
    "    break\n",
    "    image_batch, ema_image_batch, label_batch = image_batch.cuda(), ema_image_batch.cuda(), label_batch.cuda()"
   ]
  },
  {
   "cell_type": "code",
   "execution_count": 8,
   "metadata": {
    "ExecuteTime": {
     "end_time": "2020-05-29T12:27:33.609898Z",
     "start_time": "2020-05-29T12:27:33.589856Z"
    }
   },
   "outputs": [
    {
     "name": "stdout",
     "output_type": "stream",
     "text": [
      "single label  Total # images:494, labels:494\n"
     ]
    }
   ],
   "source": [
    "normalize = transforms.Normalize([0.605, 0.605, 0.605],\n",
    "                                     [0.156, 0.156, 0.156])\n",
    "test_dataset = dataset.CheXpertDataset(root_dir='../dataset/hip/training_data/',\n",
    "                                      csv_file='../dataset/hip/testing_fold1.csv',\n",
    "                                      transform=transforms.Compose([\n",
    "                                          transforms.Resize((256, 256)),\n",
    "                                          transforms.ToTensor(),\n",
    "                                          normalize,\n",
    "                                      ]))\n",
    "test_dataloader = DataLoader(dataset=test_dataset, batch_size=1,\n",
    "                                shuffle=True, num_workers=8, pin_memory=True)"
   ]
  },
  {
   "cell_type": "code",
   "execution_count": 47,
   "metadata": {
    "ExecuteTime": {
     "end_time": "2020-05-29T17:17:32.732539Z",
     "start_time": "2020-05-29T17:17:32.700748Z"
    }
   },
   "outputs": [
    {
     "data": {
      "text/plain": [
       "('3859392_1-1.3.46.670589.30.1.6.1.963335011642.1493426097125.1_L_0_512.png',\n",
       " 200,\n",
       " tensor([[[-0.4845, -0.5600, -0.5097,  ...,  0.8478,  0.8478,  0.9232],\n",
       "          [-0.5348, -0.4845, -0.4845,  ...,  0.8226,  0.7472,  0.7724],\n",
       "          [-0.6102, -0.4594, -0.5097,  ...,  0.8981,  0.8478,  0.7975],\n",
       "          ...,\n",
       "          [ 1.1243,  0.9986,  0.8226,  ...,  0.0182, -0.1829, -0.2583],\n",
       "          [ 1.0238,  0.8226,  0.3450,  ...,  0.1942, -0.0321, -0.1577],\n",
       "          [ 0.9232,  0.4959,  0.1188,  ...,  0.0685,  0.0182, -0.1326]],\n",
       " \n",
       "         [[-0.4845, -0.5600, -0.5097,  ...,  0.8478,  0.8478,  0.9232],\n",
       "          [-0.5348, -0.4845, -0.4845,  ...,  0.8226,  0.7472,  0.7724],\n",
       "          [-0.6102, -0.4594, -0.5097,  ...,  0.8981,  0.8478,  0.7975],\n",
       "          ...,\n",
       "          [ 1.1243,  0.9986,  0.8226,  ...,  0.0182, -0.1829, -0.2583],\n",
       "          [ 1.0238,  0.8226,  0.3450,  ...,  0.1942, -0.0321, -0.1577],\n",
       "          [ 0.9232,  0.4959,  0.1188,  ...,  0.0685,  0.0182, -0.1326]],\n",
       " \n",
       "         [[-0.4845, -0.5600, -0.5097,  ...,  0.8478,  0.8478,  0.9232],\n",
       "          [-0.5348, -0.4845, -0.4845,  ...,  0.8226,  0.7472,  0.7724],\n",
       "          [-0.6102, -0.4594, -0.5097,  ...,  0.8981,  0.8478,  0.7975],\n",
       "          ...,\n",
       "          [ 1.1243,  0.9986,  0.8226,  ...,  0.0182, -0.1829, -0.2583],\n",
       "          [ 1.0238,  0.8226,  0.3450,  ...,  0.1942, -0.0321, -0.1577],\n",
       "          [ 0.9232,  0.4959,  0.1188,  ...,  0.0685,  0.0182, -0.1326]]]),\n",
       " tensor([1., 0., 0.]))"
      ]
     },
     "execution_count": 47,
     "metadata": {},
     "output_type": "execute_result"
    }
   ],
   "source": [
    "a = [1,2,10]\n",
    "test_dataset[200]"
   ]
  },
  {
   "cell_type": "code",
   "execution_count": 13,
   "metadata": {
    "ExecuteTime": {
     "end_time": "2020-05-29T12:40:14.743461Z",
     "start_time": "2020-05-29T12:40:14.217113Z"
    }
   },
   "outputs": [],
   "source": [
    "a = torch.load(\"../model/0528_hip_test_label_rate09/checkpoint/epoch_12.pth\")"
   ]
  },
  {
   "cell_type": "code",
   "execution_count": 17,
   "metadata": {
    "ExecuteTime": {
     "end_time": "2020-05-29T12:55:32.798518Z",
     "start_time": "2020-05-29T12:55:32.792555Z"
    }
   },
   "outputs": [
    {
     "data": {
      "text/plain": [
       "dict_keys(['epoch', 'global_step', 'state_dict', 'ema_state_dict', 'optimizer', 'epochs'])"
      ]
     },
     "execution_count": 17,
     "metadata": {},
     "output_type": "execute_result"
    }
   ],
   "source": [
    "a.keys()"
   ]
  },
  {
   "cell_type": "code",
   "execution_count": 19,
   "metadata": {
    "ExecuteTime": {
     "end_time": "2020-05-29T12:58:24.560103Z",
     "start_time": "2020-05-29T12:58:23.758560Z"
    }
   },
   "outputs": [
    {
     "data": {
      "text/plain": [
       "<All keys matched successfully>"
      ]
     },
     "execution_count": 19,
     "metadata": {},
     "output_type": "execute_result"
    }
   ],
   "source": [
    "net = DenseNet121(out_size=3, mode='U-Ones', drop_rate=0.2)\n",
    "net = torch.nn.DataParallel(net)\n",
    "net = net.cuda()\n",
    "checkpoint = torch.load(\"../model/0528_hip_test_label_rate09/checkpoint/epoch_12.pth\")\n",
    "net.load_state_dict(checkpoint['state_dict'])\n"
   ]
  },
  {
   "cell_type": "code",
   "execution_count": 40,
   "metadata": {
    "ExecuteTime": {
     "end_time": "2020-05-29T13:23:10.901221Z",
     "start_time": "2020-05-29T13:23:01.367348Z"
    }
   },
   "outputs": [
    {
     "name": "stdout",
     "output_type": "stream",
     "text": [
      "gt label: tensor([1], device='cuda:0')\n",
      "pred_label: tensor([2], device='cuda:0')\n",
      "gt label: tensor([1], device='cuda:0')\n",
      "pred_label: tensor([1], device='cuda:0')\n",
      "gt label: tensor([1], device='cuda:0')\n",
      "pred_label: tensor([0], device='cuda:0')\n",
      "gt label: tensor([1], device='cuda:0')\n",
      "pred_label: tensor([0], device='cuda:0')\n",
      "gt label: tensor([1], device='cuda:0')\n",
      "pred_label: tensor([0], device='cuda:0')\n",
      "gt label: tensor([1], device='cuda:0')\n",
      "pred_label: tensor([0], device='cuda:0')\n",
      "gt label: tensor([1], device='cuda:0')\n",
      "pred_label: tensor([1], device='cuda:0')\n",
      "gt label: tensor([1], device='cuda:0')\n",
      "pred_label: tensor([2], device='cuda:0')\n",
      "gt label: tensor([1], device='cuda:0')\n",
      "pred_label: tensor([0], device='cuda:0')\n",
      "gt label: tensor([1], device='cuda:0')\n",
      "pred_label: tensor([0], device='cuda:0')\n",
      "gt label: tensor([1], device='cuda:0')\n",
      "pred_label: tensor([1], device='cuda:0')\n",
      "gt label: tensor([1], device='cuda:0')\n",
      "pred_label: tensor([0], device='cuda:0')\n",
      "gt label: tensor([1], device='cuda:0')\n",
      "pred_label: tensor([0], device='cuda:0')\n",
      "gt label: tensor([1], device='cuda:0')\n",
      "pred_label: tensor([2], device='cuda:0')\n",
      "gt label: tensor([1], device='cuda:0')\n",
      "pred_label: tensor([0], device='cuda:0')\n",
      "gt label: tensor([1], device='cuda:0')\n",
      "pred_label: tensor([0], device='cuda:0')\n",
      "gt label: tensor([1], device='cuda:0')\n",
      "pred_label: tensor([1], device='cuda:0')\n",
      "gt label: tensor([1], device='cuda:0')\n",
      "pred_label: tensor([1], device='cuda:0')\n",
      "gt label: tensor([1], device='cuda:0')\n",
      "pred_label: tensor([1], device='cuda:0')\n",
      "gt label: tensor([1], device='cuda:0')\n",
      "pred_label: tensor([0], device='cuda:0')\n",
      "gt label: tensor([1], device='cuda:0')\n",
      "pred_label: tensor([1], device='cuda:0')\n",
      "gt label: tensor([1], device='cuda:0')\n",
      "pred_label: tensor([1], device='cuda:0')\n",
      "gt label: tensor([1], device='cuda:0')\n",
      "pred_label: tensor([1], device='cuda:0')\n",
      "gt label: tensor([1], device='cuda:0')\n",
      "pred_label: tensor([0], device='cuda:0')\n",
      "gt label: tensor([1], device='cuda:0')\n",
      "pred_label: tensor([0], device='cuda:0')\n",
      "gt label: tensor([1], device='cuda:0')\n",
      "pred_label: tensor([0], device='cuda:0')\n",
      "gt label: tensor([1], device='cuda:0')\n",
      "pred_label: tensor([0], device='cuda:0')\n",
      "gt label: tensor([1], device='cuda:0')\n",
      "pred_label: tensor([0], device='cuda:0')\n",
      "gt label: tensor([1], device='cuda:0')\n",
      "pred_label: tensor([0], device='cuda:0')\n",
      "gt label: tensor([1], device='cuda:0')\n",
      "pred_label: tensor([0], device='cuda:0')\n",
      "gt label: tensor([1], device='cuda:0')\n",
      "pred_label: tensor([0], device='cuda:0')\n",
      "gt label: tensor([1], device='cuda:0')\n",
      "pred_label: tensor([1], device='cuda:0')\n",
      "gt label: tensor([1], device='cuda:0')\n",
      "pred_label: tensor([0], device='cuda:0')\n",
      "gt label: tensor([1], device='cuda:0')\n",
      "pred_label: tensor([1], device='cuda:0')\n",
      "gt label: tensor([1], device='cuda:0')\n",
      "pred_label: tensor([0], device='cuda:0')\n",
      "gt label: tensor([1], device='cuda:0')\n",
      "pred_label: tensor([0], device='cuda:0')\n",
      "gt label: tensor([1], device='cuda:0')\n",
      "pred_label: tensor([0], device='cuda:0')\n",
      "gt label: tensor([1], device='cuda:0')\n",
      "pred_label: tensor([2], device='cuda:0')\n",
      "gt label: tensor([1], device='cuda:0')\n",
      "pred_label: tensor([0], device='cuda:0')\n",
      "gt label: tensor([1], device='cuda:0')\n",
      "pred_label: tensor([0], device='cuda:0')\n",
      "gt label: tensor([1], device='cuda:0')\n",
      "pred_label: tensor([2], device='cuda:0')\n",
      "gt label: tensor([1], device='cuda:0')\n",
      "pred_label: tensor([0], device='cuda:0')\n",
      "gt label: tensor([1], device='cuda:0')\n",
      "pred_label: tensor([0], device='cuda:0')\n",
      "gt label: tensor([1], device='cuda:0')\n",
      "pred_label: tensor([0], device='cuda:0')\n",
      "gt label: tensor([1], device='cuda:0')\n",
      "pred_label: tensor([0], device='cuda:0')\n",
      "gt label: tensor([1], device='cuda:0')\n",
      "pred_label: tensor([0], device='cuda:0')\n",
      "gt label: tensor([1], device='cuda:0')\n",
      "pred_label: tensor([1], device='cuda:0')\n",
      "gt label: tensor([1], device='cuda:0')\n",
      "pred_label: tensor([2], device='cuda:0')\n",
      "gt label: tensor([1], device='cuda:0')\n",
      "pred_label: tensor([2], device='cuda:0')\n",
      "gt label: tensor([1], device='cuda:0')\n",
      "pred_label: tensor([0], device='cuda:0')\n",
      "gt label: tensor([1], device='cuda:0')\n",
      "pred_label: tensor([0], device='cuda:0')\n",
      "gt label: tensor([1], device='cuda:0')\n",
      "pred_label: tensor([2], device='cuda:0')\n",
      "gt label: tensor([1], device='cuda:0')\n",
      "pred_label: tensor([1], device='cuda:0')\n",
      "gt label: tensor([1], device='cuda:0')\n",
      "pred_label: tensor([0], device='cuda:0')\n",
      "gt label: tensor([1], device='cuda:0')\n",
      "pred_label: tensor([0], device='cuda:0')\n",
      "gt label: tensor([1], device='cuda:0')\n",
      "pred_label: tensor([1], device='cuda:0')\n",
      "gt label: tensor([1], device='cuda:0')\n",
      "pred_label: tensor([1], device='cuda:0')\n",
      "gt label: tensor([1], device='cuda:0')\n",
      "pred_label: tensor([0], device='cuda:0')\n",
      "gt label: tensor([1], device='cuda:0')\n",
      "pred_label: tensor([1], device='cuda:0')\n",
      "gt label: tensor([1], device='cuda:0')\n",
      "pred_label: tensor([0], device='cuda:0')\n",
      "gt label: tensor([1], device='cuda:0')\n",
      "pred_label: tensor([0], device='cuda:0')\n",
      "gt label: tensor([1], device='cuda:0')\n",
      "pred_label: tensor([0], device='cuda:0')\n",
      "gt label: tensor([1], device='cuda:0')\n",
      "pred_label: tensor([0], device='cuda:0')\n",
      "gt label: tensor([1], device='cuda:0')\n",
      "pred_label: tensor([0], device='cuda:0')\n"
     ]
    }
   ],
   "source": [
    "net.eval()\n",
    "count = 0\n",
    "total = 0\n",
    "for i, (study, _, image, label) in enumerate(test_dataloader):\n",
    "    #print(\"image:\",study)\n",
    "    image,label = image.cuda(),label.cuda()\n",
    "    gt_label = torch.max(label, 1)[1]\n",
    "    if gt_label == 1:\n",
    "        total +=1\n",
    "        print(\"gt label:\",gt_label)\n",
    "        _,output = net(image)\n",
    "        pred_label = torch.max(output, 1)[1]\n",
    "        if pred_label == gt_label:\n",
    "            count+=1\n",
    "        print(\"pred_label:\",pred_label)"
   ]
  },
  {
   "cell_type": "code",
   "execution_count": 38,
   "metadata": {
    "ExecuteTime": {
     "end_time": "2020-05-29T13:21:13.962734Z",
     "start_time": "2020-05-29T13:21:13.954344Z"
    }
   },
   "outputs": [
    {
     "data": {
      "text/plain": [
       "16"
      ]
     },
     "execution_count": 38,
     "metadata": {},
     "output_type": "execute_result"
    }
   ],
   "source": [
    "count"
   ]
  },
  {
   "cell_type": "code",
   "execution_count": 35,
   "metadata": {
    "ExecuteTime": {
     "end_time": "2020-05-29T13:17:04.241069Z",
     "start_time": "2020-05-29T13:17:04.232671Z"
    }
   },
   "outputs": [
    {
     "data": {
      "text/plain": [
       "494"
      ]
     },
     "execution_count": 35,
     "metadata": {},
     "output_type": "execute_result"
    }
   ],
   "source": [
    "len(test_dataset)"
   ]
  },
  {
   "cell_type": "code",
   "execution_count": 39,
   "metadata": {
    "ExecuteTime": {
     "end_time": "2020-05-29T13:21:26.269959Z",
     "start_time": "2020-05-29T13:21:26.264360Z"
    }
   },
   "outputs": [
    {
     "data": {
      "text/plain": [
       "64"
      ]
     },
     "execution_count": 39,
     "metadata": {},
     "output_type": "execute_result"
    }
   ],
   "source": [
    "total"
   ]
  },
  {
   "cell_type": "code",
   "execution_count": null,
   "metadata": {},
   "outputs": [],
   "source": []
  }
 ],
 "metadata": {
  "kernelspec": {
   "display_name": "'Python Interactive'",
   "language": "python",
   "name": "e9217d90-e63e-4b01-86e9-b3407b16b732"
  },
  "toc": {
   "base_numbering": 1,
   "nav_menu": {},
   "number_sections": true,
   "sideBar": true,
   "skip_h1_title": false,
   "title_cell": "Table of Contents",
   "title_sidebar": "Contents",
   "toc_cell": false,
   "toc_position": {},
   "toc_section_display": true,
   "toc_window_display": false
  },
  "varInspector": {
   "cols": {
    "lenName": 16,
    "lenType": 16,
    "lenVar": 40
   },
   "kernels_config": {
    "python": {
     "delete_cmd_postfix": "",
     "delete_cmd_prefix": "del ",
     "library": "var_list.py",
     "varRefreshCmd": "print(var_dic_list())"
    },
    "r": {
     "delete_cmd_postfix": ") ",
     "delete_cmd_prefix": "rm(",
     "library": "var_list.r",
     "varRefreshCmd": "cat(var_dic_list()) "
    }
   },
   "types_to_exclude": [
    "module",
    "function",
    "builtin_function_or_method",
    "instance",
    "_Feature"
   ],
   "window_display": false
  }
 },
 "nbformat": 4,
 "nbformat_minor": 4
}
