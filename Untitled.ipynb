{
 "cells": [
  {
   "cell_type": "markdown",
   "metadata": {},
   "source": [
    "# test network"
   ]
  },
  {
   "cell_type": "code",
   "execution_count": 48,
   "metadata": {
    "ExecuteTime": {
     "end_time": "2020-05-30T01:47:52.699478Z",
     "start_time": "2020-05-30T01:47:52.679912Z"
    }
   },
   "outputs": [],
   "source": [
    "import os\n",
    "import sys\n",
    "# from tensorboardX import SummaryWriter\n",
    "import shutil\n",
    "import argparse\n",
    "import logging\n",
    "import time\n",
    "import random\n",
    "import numpy as np\n",
    "import pandas as pd\n",
    "from tensorboardX import SummaryWriter\n",
    "\n",
    "import torch\n",
    "from torch import nn\n",
    "import torch.optim as optim\n",
    "from torchvision import transforms\n",
    "import torch.nn.functional as F\n",
    "import torch.backends.cudnn as cudnn\n",
    "from torch.utils.data import DataLoader\n",
    "from torchvision.utils import make_grid\n",
    "import pretrainedmodels\n",
    "\n",
    "from networks.models import DenseNet121,DenseNet161\n",
    "from utils import losses, ramps\n",
    "from utils.metrics import compute_AUCs\n",
    "from utils.metric_logger import MetricLogger\n",
    "from dataloaders import  dataset\n",
    "from dataloaders import chest_xray_14\n",
    "from dataloaders.dataset import TwoStreamBatchSampler\n",
    "from utils.util import get_timestamp\n",
    "from validation import epochVal, epochVal_metrics"
   ]
  },
  {
   "cell_type": "code",
   "execution_count": 51,
   "metadata": {
    "ExecuteTime": {
     "end_time": "2020-05-30T01:50:42.373594Z",
     "start_time": "2020-05-30T01:50:42.349967Z"
    }
   },
   "outputs": [
    {
     "name": "stdout",
     "output_type": "stream",
     "text": [
      "single label  Total # images:494, labels:494\n",
      "train_dataset len: 494\n",
      "labeled_num: 444\n"
     ]
    }
   ],
   "source": [
    "normalize = transforms.Normalize([0.605, 0.605, 0.605],\n",
    "                                     [0.156, 0.156, 0.156])\n",
    "train_dataset = dataset.CheXpertDataset(root_dir='../dataset/hip/training_data/',\n",
    "                                        csv_file='../dataset/hip/testing_fold1.csv',\n",
    "                                        transform=dataset.TransformTwice(transforms.Compose([\n",
    "                                            transforms.Resize((224, 224)),\n",
    "                                            transforms.RandomAffine(degrees=10, translate=(0.02, 0.02)),\n",
    "                                            transforms.RandomHorizontalFlip(),\n",
    "                                            # transforms.ColorJitter(brightness=0.4, contrast=0.4, saturation=0.4, hue=0.1),\n",
    "                                            # transforms.RandomRotation(10),\n",
    "                                            # transforms.RandomResizedCrop(224),\n",
    "                                            transforms.ToTensor(),\n",
    "                                            normalize,\n",
    "                                        ])))\n",
    "print(\"train_dataset len:\",len(train_dataset))\n",
    "train_dataset_num = len(train_dataset)\n",
    "labeled_num = int(train_dataset_num*0.9)\n",
    "print(\"labeled_num:\",labeled_num)\n",
    "labeled_idxs = list(range(labeled_num))\n",
    "unlabeled_idxs = list(range(labeled_num, train_dataset_num))\n",
    "batch_size = 16\n",
    "labeled_bs = 4\n",
    "batch_sampler = TwoStreamBatchSampler(labeled_idxs, unlabeled_idxs, batch_size, batch_size-labeled_bs)\n",
    "def worker_init_fn(worker_id):\n",
    "    random.seed(20000+worker_id)\n",
    "train_dataloader = DataLoader(dataset=train_dataset, batch_sampler=batch_sampler,\n",
    "                                  num_workers=8, pin_memory=True, worker_init_fn=worker_init_fn)"
   ]
  },
  {
   "cell_type": "code",
   "execution_count": 52,
   "metadata": {
    "ExecuteTime": {
     "end_time": "2020-05-30T01:52:14.322893Z",
     "start_time": "2020-05-30T01:52:12.675154Z"
    }
   },
   "outputs": [
    {
     "name": "stdout",
     "output_type": "stream",
     "text": [
      "label batch: tensor([[1., 0., 0.],\n",
      "        [0., 0., 1.],\n",
      "        [1., 0., 0.],\n",
      "        [0., 0., 1.],\n",
      "        [0., 1., 0.],\n",
      "        [0., 1., 0.],\n",
      "        [0., 1., 0.],\n",
      "        [0., 1., 0.],\n",
      "        [0., 1., 0.],\n",
      "        [0., 1., 0.],\n",
      "        [0., 1., 0.],\n",
      "        [0., 1., 0.],\n",
      "        [0., 1., 0.],\n",
      "        [0., 1., 0.],\n",
      "        [0., 1., 0.],\n",
      "        [0., 1., 0.]])\n"
     ]
    },
    {
     "ename": "NameError",
     "evalue": "name 'breal' is not defined",
     "output_type": "error",
     "traceback": [
      "\u001b[0;31m---------------------------------------------------------------------------\u001b[0m",
      "\u001b[0;31mNameError\u001b[0m                                 Traceback (most recent call last)",
      "\u001b[0;32m<ipython-input-52-768981f32dae>\u001b[0m in \u001b[0;36m<module>\u001b[0;34m\u001b[0m\n\u001b[1;32m      3\u001b[0m     \u001b[0;31m# print('fetch data cost {}'.format(time2-time1))\u001b[0m\u001b[0;34m\u001b[0m\u001b[0;34m\u001b[0m\u001b[0;34m\u001b[0m\u001b[0m\n\u001b[1;32m      4\u001b[0m     \u001b[0mprint\u001b[0m\u001b[0;34m(\u001b[0m\u001b[0;34m\"label batch:\"\u001b[0m\u001b[0;34m,\u001b[0m\u001b[0mlabel_batch\u001b[0m\u001b[0;34m)\u001b[0m\u001b[0;34m\u001b[0m\u001b[0;34m\u001b[0m\u001b[0m\n\u001b[0;32m----> 5\u001b[0;31m     \u001b[0mbreal\u001b[0m\u001b[0;34m\u001b[0m\u001b[0;34m\u001b[0m\u001b[0m\n\u001b[0m\u001b[1;32m      6\u001b[0m     \u001b[0mimage_batch\u001b[0m\u001b[0;34m,\u001b[0m \u001b[0mema_image_batch\u001b[0m\u001b[0;34m,\u001b[0m \u001b[0mlabel_batch\u001b[0m \u001b[0;34m=\u001b[0m \u001b[0mimage_batch\u001b[0m\u001b[0;34m.\u001b[0m\u001b[0mcuda\u001b[0m\u001b[0;34m(\u001b[0m\u001b[0;34m)\u001b[0m\u001b[0;34m,\u001b[0m \u001b[0mema_image_batch\u001b[0m\u001b[0;34m.\u001b[0m\u001b[0mcuda\u001b[0m\u001b[0;34m(\u001b[0m\u001b[0;34m)\u001b[0m\u001b[0;34m,\u001b[0m \u001b[0mlabel_batch\u001b[0m\u001b[0;34m.\u001b[0m\u001b[0mcuda\u001b[0m\u001b[0;34m(\u001b[0m\u001b[0;34m)\u001b[0m\u001b[0;34m\u001b[0m\u001b[0;34m\u001b[0m\u001b[0m\n",
      "\u001b[0;31mNameError\u001b[0m: name 'breal' is not defined"
     ]
    }
   ],
   "source": [
    "for i, (_,_, (image_batch, ema_image_batch), label_batch) in enumerate(train_dataloader):\n",
    "    time2 = time.time()\n",
    "    # print('fetch data cost {}'.format(time2-time1))\n",
    "    print(\"label batch:\",label_batch)\n",
    "    break\n",
    "    image_batch, ema_image_batch, label_batch = image_batch.cuda(), ema_image_batch.cuda(), label_batch.cuda()"
   ]
  },
  {
   "cell_type": "code",
   "execution_count": 8,
   "metadata": {
    "ExecuteTime": {
     "end_time": "2020-05-29T12:27:33.609898Z",
     "start_time": "2020-05-29T12:27:33.589856Z"
    }
   },
   "outputs": [
    {
     "name": "stdout",
     "output_type": "stream",
     "text": [
      "single label  Total # images:494, labels:494\n"
     ]
    }
   ],
   "source": [
    "normalize = transforms.Normalize([0.605, 0.605, 0.605],\n",
    "                                     [0.156, 0.156, 0.156])\n",
    "test_dataset = dataset.CheXpertDataset(root_dir='../dataset/hip/training_data/',\n",
    "                                      csv_file='../dataset/hip/testing_fold1.csv',\n",
    "                                      transform=transforms.Compose([\n",
    "                                          transforms.Resize((256, 256)),\n",
    "                                          transforms.ToTensor(),\n",
    "                                          normalize,\n",
    "                                      ]))\n",
    "test_dataloader = DataLoader(dataset=test_dataset, batch_size=1,\n",
    "                                shuffle=True, num_workers=8, pin_memory=True)"
   ]
  },
  {
   "cell_type": "code",
   "execution_count": 47,
   "metadata": {
    "ExecuteTime": {
     "end_time": "2020-05-29T17:17:32.732539Z",
     "start_time": "2020-05-29T17:17:32.700748Z"
    }
   },
   "outputs": [
    {
     "data": {
      "text/plain": [
       "('3859392_1-1.3.46.670589.30.1.6.1.963335011642.1493426097125.1_L_0_512.png',\n",
       " 200,\n",
       " tensor([[[-0.4845, -0.5600, -0.5097,  ...,  0.8478,  0.8478,  0.9232],\n",
       "          [-0.5348, -0.4845, -0.4845,  ...,  0.8226,  0.7472,  0.7724],\n",
       "          [-0.6102, -0.4594, -0.5097,  ...,  0.8981,  0.8478,  0.7975],\n",
       "          ...,\n",
       "          [ 1.1243,  0.9986,  0.8226,  ...,  0.0182, -0.1829, -0.2583],\n",
       "          [ 1.0238,  0.8226,  0.3450,  ...,  0.1942, -0.0321, -0.1577],\n",
       "          [ 0.9232,  0.4959,  0.1188,  ...,  0.0685,  0.0182, -0.1326]],\n",
       " \n",
       "         [[-0.4845, -0.5600, -0.5097,  ...,  0.8478,  0.8478,  0.9232],\n",
       "          [-0.5348, -0.4845, -0.4845,  ...,  0.8226,  0.7472,  0.7724],\n",
       "          [-0.6102, -0.4594, -0.5097,  ...,  0.8981,  0.8478,  0.7975],\n",
       "          ...,\n",
       "          [ 1.1243,  0.9986,  0.8226,  ...,  0.0182, -0.1829, -0.2583],\n",
       "          [ 1.0238,  0.8226,  0.3450,  ...,  0.1942, -0.0321, -0.1577],\n",
       "          [ 0.9232,  0.4959,  0.1188,  ...,  0.0685,  0.0182, -0.1326]],\n",
       " \n",
       "         [[-0.4845, -0.5600, -0.5097,  ...,  0.8478,  0.8478,  0.9232],\n",
       "          [-0.5348, -0.4845, -0.4845,  ...,  0.8226,  0.7472,  0.7724],\n",
       "          [-0.6102, -0.4594, -0.5097,  ...,  0.8981,  0.8478,  0.7975],\n",
       "          ...,\n",
       "          [ 1.1243,  0.9986,  0.8226,  ...,  0.0182, -0.1829, -0.2583],\n",
       "          [ 1.0238,  0.8226,  0.3450,  ...,  0.1942, -0.0321, -0.1577],\n",
       "          [ 0.9232,  0.4959,  0.1188,  ...,  0.0685,  0.0182, -0.1326]]]),\n",
       " tensor([1., 0., 0.]))"
      ]
     },
     "execution_count": 47,
     "metadata": {},
     "output_type": "execute_result"
    }
   ],
   "source": [
    "a = [1,2,10]\n",
    "test_dataset[200]"
   ]
  },
  {
   "cell_type": "code",
   "execution_count": 13,
   "metadata": {
    "ExecuteTime": {
     "end_time": "2020-05-29T12:40:14.743461Z",
     "start_time": "2020-05-29T12:40:14.217113Z"
    }
   },
   "outputs": [],
   "source": [
    "a = torch.load(\"../model/0528_hip_test_label_rate09/checkpoint/epoch_12.pth\")"
   ]
  },
  {
   "cell_type": "code",
   "execution_count": 17,
   "metadata": {
    "ExecuteTime": {
     "end_time": "2020-05-29T12:55:32.798518Z",
     "start_time": "2020-05-29T12:55:32.792555Z"
    }
   },
   "outputs": [
    {
     "data": {
      "text/plain": [
       "dict_keys(['epoch', 'global_step', 'state_dict', 'ema_state_dict', 'optimizer', 'epochs'])"
      ]
     },
     "execution_count": 17,
     "metadata": {},
     "output_type": "execute_result"
    }
   ],
   "source": [
    "a.keys()"
   ]
  },
  {
   "cell_type": "code",
   "execution_count": 19,
   "metadata": {
    "ExecuteTime": {
     "end_time": "2020-05-29T12:58:24.560103Z",
     "start_time": "2020-05-29T12:58:23.758560Z"
    }
   },
   "outputs": [
    {
     "data": {
      "text/plain": [
       "<All keys matched successfully>"
      ]
     },
     "execution_count": 19,
     "metadata": {},
     "output_type": "execute_result"
    }
   ],
   "source": [
    "net = DenseNet121(out_size=3, mode='U-Ones', drop_rate=0.2)\n",
    "net = torch.nn.DataParallel(net)\n",
    "net = net.cuda()\n",
    "checkpoint = torch.load(\"../model/0528_hip_test_label_rate09/checkpoint/epoch_12.pth\")\n",
    "net.load_state_dict(checkpoint['state_dict'])\n"
   ]
  },
  {
   "cell_type": "code",
   "execution_count": 40,
   "metadata": {
    "ExecuteTime": {
     "end_time": "2020-05-29T13:23:10.901221Z",
     "start_time": "2020-05-29T13:23:01.367348Z"
    }
   },
   "outputs": [
    {
     "name": "stdout",
     "output_type": "stream",
     "text": [
      "gt label: tensor([1], device='cuda:0')\n",
      "pred_label: tensor([2], device='cuda:0')\n",
      "gt label: tensor([1], device='cuda:0')\n",
      "pred_label: tensor([1], device='cuda:0')\n",
      "gt label: tensor([1], device='cuda:0')\n",
      "pred_label: tensor([0], device='cuda:0')\n",
      "gt label: tensor([1], device='cuda:0')\n",
      "pred_label: tensor([0], device='cuda:0')\n",
      "gt label: tensor([1], device='cuda:0')\n",
      "pred_label: tensor([0], device='cuda:0')\n",
      "gt label: tensor([1], device='cuda:0')\n",
      "pred_label: tensor([0], device='cuda:0')\n",
      "gt label: tensor([1], device='cuda:0')\n",
      "pred_label: tensor([1], device='cuda:0')\n",
      "gt label: tensor([1], device='cuda:0')\n",
      "pred_label: tensor([2], device='cuda:0')\n",
      "gt label: tensor([1], device='cuda:0')\n",
      "pred_label: tensor([0], device='cuda:0')\n",
      "gt label: tensor([1], device='cuda:0')\n",
      "pred_label: tensor([0], device='cuda:0')\n",
      "gt label: tensor([1], device='cuda:0')\n",
      "pred_label: tensor([1], device='cuda:0')\n",
      "gt label: tensor([1], device='cuda:0')\n",
      "pred_label: tensor([0], device='cuda:0')\n",
      "gt label: tensor([1], device='cuda:0')\n",
      "pred_label: tensor([0], device='cuda:0')\n",
      "gt label: tensor([1], device='cuda:0')\n",
      "pred_label: tensor([2], device='cuda:0')\n",
      "gt label: tensor([1], device='cuda:0')\n",
      "pred_label: tensor([0], device='cuda:0')\n",
      "gt label: tensor([1], device='cuda:0')\n",
      "pred_label: tensor([0], device='cuda:0')\n",
      "gt label: tensor([1], device='cuda:0')\n",
      "pred_label: tensor([1], device='cuda:0')\n",
      "gt label: tensor([1], device='cuda:0')\n",
      "pred_label: tensor([1], device='cuda:0')\n",
      "gt label: tensor([1], device='cuda:0')\n",
      "pred_label: tensor([1], device='cuda:0')\n",
      "gt label: tensor([1], device='cuda:0')\n",
      "pred_label: tensor([0], device='cuda:0')\n",
      "gt label: tensor([1], device='cuda:0')\n",
      "pred_label: tensor([1], device='cuda:0')\n",
      "gt label: tensor([1], device='cuda:0')\n",
      "pred_label: tensor([1], device='cuda:0')\n",
      "gt label: tensor([1], device='cuda:0')\n",
      "pred_label: tensor([1], device='cuda:0')\n",
      "gt label: tensor([1], device='cuda:0')\n",
      "pred_label: tensor([0], device='cuda:0')\n",
      "gt label: tensor([1], device='cuda:0')\n",
      "pred_label: tensor([0], device='cuda:0')\n",
      "gt label: tensor([1], device='cuda:0')\n",
      "pred_label: tensor([0], device='cuda:0')\n",
      "gt label: tensor([1], device='cuda:0')\n",
      "pred_label: tensor([0], device='cuda:0')\n",
      "gt label: tensor([1], device='cuda:0')\n",
      "pred_label: tensor([0], device='cuda:0')\n",
      "gt label: tensor([1], device='cuda:0')\n",
      "pred_label: tensor([0], device='cuda:0')\n",
      "gt label: tensor([1], device='cuda:0')\n",
      "pred_label: tensor([0], device='cuda:0')\n",
      "gt label: tensor([1], device='cuda:0')\n",
      "pred_label: tensor([0], device='cuda:0')\n",
      "gt label: tensor([1], device='cuda:0')\n",
      "pred_label: tensor([1], device='cuda:0')\n",
      "gt label: tensor([1], device='cuda:0')\n",
      "pred_label: tensor([0], device='cuda:0')\n",
      "gt label: tensor([1], device='cuda:0')\n",
      "pred_label: tensor([1], device='cuda:0')\n",
      "gt label: tensor([1], device='cuda:0')\n",
      "pred_label: tensor([0], device='cuda:0')\n",
      "gt label: tensor([1], device='cuda:0')\n",
      "pred_label: tensor([0], device='cuda:0')\n",
      "gt label: tensor([1], device='cuda:0')\n",
      "pred_label: tensor([0], device='cuda:0')\n",
      "gt label: tensor([1], device='cuda:0')\n",
      "pred_label: tensor([2], device='cuda:0')\n",
      "gt label: tensor([1], device='cuda:0')\n",
      "pred_label: tensor([0], device='cuda:0')\n",
      "gt label: tensor([1], device='cuda:0')\n",
      "pred_label: tensor([0], device='cuda:0')\n",
      "gt label: tensor([1], device='cuda:0')\n",
      "pred_label: tensor([2], device='cuda:0')\n",
      "gt label: tensor([1], device='cuda:0')\n",
      "pred_label: tensor([0], device='cuda:0')\n",
      "gt label: tensor([1], device='cuda:0')\n",
      "pred_label: tensor([0], device='cuda:0')\n",
      "gt label: tensor([1], device='cuda:0')\n",
      "pred_label: tensor([0], device='cuda:0')\n",
      "gt label: tensor([1], device='cuda:0')\n",
      "pred_label: tensor([0], device='cuda:0')\n",
      "gt label: tensor([1], device='cuda:0')\n",
      "pred_label: tensor([0], device='cuda:0')\n",
      "gt label: tensor([1], device='cuda:0')\n",
      "pred_label: tensor([1], device='cuda:0')\n",
      "gt label: tensor([1], device='cuda:0')\n",
      "pred_label: tensor([2], device='cuda:0')\n",
      "gt label: tensor([1], device='cuda:0')\n",
      "pred_label: tensor([2], device='cuda:0')\n",
      "gt label: tensor([1], device='cuda:0')\n",
      "pred_label: tensor([0], device='cuda:0')\n",
      "gt label: tensor([1], device='cuda:0')\n",
      "pred_label: tensor([0], device='cuda:0')\n",
      "gt label: tensor([1], device='cuda:0')\n",
      "pred_label: tensor([2], device='cuda:0')\n",
      "gt label: tensor([1], device='cuda:0')\n",
      "pred_label: tensor([1], device='cuda:0')\n",
      "gt label: tensor([1], device='cuda:0')\n",
      "pred_label: tensor([0], device='cuda:0')\n",
      "gt label: tensor([1], device='cuda:0')\n",
      "pred_label: tensor([0], device='cuda:0')\n",
      "gt label: tensor([1], device='cuda:0')\n",
      "pred_label: tensor([1], device='cuda:0')\n",
      "gt label: tensor([1], device='cuda:0')\n",
      "pred_label: tensor([1], device='cuda:0')\n",
      "gt label: tensor([1], device='cuda:0')\n",
      "pred_label: tensor([0], device='cuda:0')\n",
      "gt label: tensor([1], device='cuda:0')\n",
      "pred_label: tensor([1], device='cuda:0')\n",
      "gt label: tensor([1], device='cuda:0')\n",
      "pred_label: tensor([0], device='cuda:0')\n",
      "gt label: tensor([1], device='cuda:0')\n",
      "pred_label: tensor([0], device='cuda:0')\n",
      "gt label: tensor([1], device='cuda:0')\n",
      "pred_label: tensor([0], device='cuda:0')\n",
      "gt label: tensor([1], device='cuda:0')\n",
      "pred_label: tensor([0], device='cuda:0')\n",
      "gt label: tensor([1], device='cuda:0')\n",
      "pred_label: tensor([0], device='cuda:0')\n"
     ]
    }
   ],
   "source": [
    "net.eval()\n",
    "count = 0\n",
    "total = 0\n",
    "for i, (study, _, image, label) in enumerate(test_dataloader):\n",
    "    #print(\"image:\",study)\n",
    "    image,label = image.cuda(),label.cuda()\n",
    "    gt_label = torch.max(label, 1)[1]\n",
    "    if gt_label == 1:\n",
    "        total +=1\n",
    "        print(\"gt label:\",gt_label)\n",
    "        _,output = net(image)\n",
    "        pred_label = torch.max(output, 1)[1]\n",
    "        if pred_label == gt_label:\n",
    "            count+=1\n",
    "        print(\"pred_label:\",pred_label)"
   ]
  },
  {
   "cell_type": "code",
   "execution_count": 38,
   "metadata": {
    "ExecuteTime": {
     "end_time": "2020-05-29T13:21:13.962734Z",
     "start_time": "2020-05-29T13:21:13.954344Z"
    }
   },
   "outputs": [
    {
     "data": {
      "text/plain": [
       "16"
      ]
     },
     "execution_count": 38,
     "metadata": {},
     "output_type": "execute_result"
    }
   ],
   "source": [
    "count"
   ]
  },
  {
   "cell_type": "code",
   "execution_count": 35,
   "metadata": {
    "ExecuteTime": {
     "end_time": "2020-05-29T13:17:04.241069Z",
     "start_time": "2020-05-29T13:17:04.232671Z"
    }
   },
   "outputs": [
    {
     "data": {
      "text/plain": [
       "494"
      ]
     },
     "execution_count": 35,
     "metadata": {},
     "output_type": "execute_result"
    }
   ],
   "source": [
    "len(test_dataset)"
   ]
  },
  {
   "cell_type": "code",
   "execution_count": 39,
   "metadata": {
    "ExecuteTime": {
     "end_time": "2020-05-29T13:21:26.269959Z",
     "start_time": "2020-05-29T13:21:26.264360Z"
    }
   },
   "outputs": [
    {
     "data": {
      "text/plain": [
       "64"
      ]
     },
     "execution_count": 39,
     "metadata": {},
     "output_type": "execute_result"
    }
   ],
   "source": [
    "total"
   ]
  },
  {
   "cell_type": "code",
   "execution_count": 88,
   "metadata": {
    "ExecuteTime": {
     "end_time": "2020-05-30T05:51:21.808764Z",
     "start_time": "2020-05-30T05:51:21.749738Z"
    }
   },
   "outputs": [],
   "source": [
    "import pandas as pd \n",
    "df = pd.read_csv(\"../dataset/hip_3cls/training.csv\")"
   ]
  },
  {
   "cell_type": "code",
   "execution_count": 89,
   "metadata": {
    "ExecuteTime": {
     "end_time": "2020-05-30T05:51:29.571615Z",
     "start_time": "2020-05-30T05:51:29.562629Z"
    }
   },
   "outputs": [],
   "source": [
    "df = df.sample(frac = 0.2)"
   ]
  },
  {
   "cell_type": "code",
   "execution_count": 90,
   "metadata": {
    "ExecuteTime": {
     "end_time": "2020-05-30T05:51:33.489927Z",
     "start_time": "2020-05-30T05:51:33.482833Z"
    }
   },
   "outputs": [
    {
     "data": {
      "text/plain": [
       "3190"
      ]
     },
     "execution_count": 90,
     "metadata": {},
     "output_type": "execute_result"
    }
   ],
   "source": [
    "len(df)"
   ]
  },
  {
   "cell_type": "code",
   "execution_count": 92,
   "metadata": {
    "ExecuteTime": {
     "end_time": "2020-05-30T05:52:51.381074Z",
     "start_time": "2020-05-30T05:52:51.333974Z"
    }
   },
   "outputs": [],
   "source": [
    "df.to_csv(\"../dataset/hip_3cls/training_frac02.csv\")"
   ]
  },
  {
   "cell_type": "markdown",
   "metadata": {},
   "source": [
    "# get  traing data split"
   ]
  },
  {
   "cell_type": "code",
   "execution_count": 65,
   "metadata": {
    "ExecuteTime": {
     "end_time": "2020-05-30T05:22:55.010559Z",
     "start_time": "2020-05-30T05:22:55.005900Z"
    }
   },
   "outputs": [],
   "source": [
    "from glob import glob"
   ]
  },
  {
   "cell_type": "code",
   "execution_count": 69,
   "metadata": {
    "ExecuteTime": {
     "end_time": "2020-05-30T05:27:23.272350Z",
     "start_time": "2020-05-30T05:27:23.161550Z"
    }
   },
   "outputs": [],
   "source": [
    "data_list = glob(\"../dataset/hip_3cls/*/*/*png\")"
   ]
  },
  {
   "cell_type": "code",
   "execution_count": 70,
   "metadata": {
    "ExecuteTime": {
     "end_time": "2020-05-30T05:27:32.252733Z",
     "start_time": "2020-05-30T05:27:32.245848Z"
    }
   },
   "outputs": [
    {
     "data": {
      "text/plain": [
       "22784"
      ]
     },
     "execution_count": 70,
     "metadata": {},
     "output_type": "execute_result"
    }
   ],
   "source": [
    "len(data_list)"
   ]
  },
  {
   "cell_type": "code",
   "execution_count": 71,
   "metadata": {
    "ExecuteTime": {
     "end_time": "2020-05-30T05:28:19.872651Z",
     "start_time": "2020-05-30T05:27:57.776900Z"
    }
   },
   "outputs": [],
   "source": [
    "# for semi-supervised\n",
    "df =pd.DataFrame(columns=('image','disease'))\n",
    "for img in data_list:\n",
    "    img_name = img.split(\"/\")[-1]\n",
    "    label = img.split(\"/\")[-2][0]\n",
    "    df=df.append(pd.DataFrame({'image':[img_name],'disease':[label]}),ignore_index=True)"
   ]
  },
  {
   "cell_type": "code",
   "execution_count": 75,
   "metadata": {
    "ExecuteTime": {
     "end_time": "2020-05-30T05:28:56.165821Z",
     "start_time": "2020-05-30T05:28:56.143207Z"
    }
   },
   "outputs": [
    {
     "data": {
      "text/html": [
       "<div>\n",
       "<style scoped>\n",
       "    .dataframe tbody tr th:only-of-type {\n",
       "        vertical-align: middle;\n",
       "    }\n",
       "\n",
       "    .dataframe tbody tr th {\n",
       "        vertical-align: top;\n",
       "    }\n",
       "\n",
       "    .dataframe thead th {\n",
       "        text-align: right;\n",
       "    }\n",
       "</style>\n",
       "<table border=\"1\" class=\"dataframe\">\n",
       "  <thead>\n",
       "    <tr style=\"text-align: right;\">\n",
       "      <th></th>\n",
       "      <th>image</th>\n",
       "      <th>disease</th>\n",
       "    </tr>\n",
       "  </thead>\n",
       "  <tbody>\n",
       "    <tr>\n",
       "      <th>0</th>\n",
       "      <td>1.3.46.670589.30.1.6.1.963334011478.1365397389...</td>\n",
       "      <td>1</td>\n",
       "    </tr>\n",
       "    <tr>\n",
       "      <th>1</th>\n",
       "      <td>1.3.46.670589.30.1.6.1.963334011478.1431399815...</td>\n",
       "      <td>1</td>\n",
       "    </tr>\n",
       "    <tr>\n",
       "      <th>2</th>\n",
       "      <td>1.3.46.670589.30.1.6.1.963334086946.1477299370...</td>\n",
       "      <td>1</td>\n",
       "    </tr>\n",
       "    <tr>\n",
       "      <th>3</th>\n",
       "      <td>1.3.46.670589.30.1.6.1.963334086946.1417402250...</td>\n",
       "      <td>1</td>\n",
       "    </tr>\n",
       "    <tr>\n",
       "      <th>4</th>\n",
       "      <td>1.3.46.670589.30.1.6.1.963334086946.1452126291...</td>\n",
       "      <td>1</td>\n",
       "    </tr>\n",
       "    <tr>\n",
       "      <th>...</th>\n",
       "      <td>...</td>\n",
       "      <td>...</td>\n",
       "    </tr>\n",
       "    <tr>\n",
       "      <th>19995</th>\n",
       "      <td>1.3.46.670589.26.702267.22.20121129.103827.1_5...</td>\n",
       "      <td>0</td>\n",
       "    </tr>\n",
       "    <tr>\n",
       "      <th>19996</th>\n",
       "      <td>1.3.46.670589.30.1.6.1.963334086946.1428396621...</td>\n",
       "      <td>0</td>\n",
       "    </tr>\n",
       "    <tr>\n",
       "      <th>19997</th>\n",
       "      <td>1.3.46.670589.30.1.3.1.1625143089.130465677253...</td>\n",
       "      <td>0</td>\n",
       "    </tr>\n",
       "    <tr>\n",
       "      <th>19998</th>\n",
       "      <td>1.3.46.670589.30.1.6.1.963333111298.1517186008...</td>\n",
       "      <td>0</td>\n",
       "    </tr>\n",
       "    <tr>\n",
       "      <th>19999</th>\n",
       "      <td>1.3.46.670589.30.1.6.1.963333111298.1514010957...</td>\n",
       "      <td>0</td>\n",
       "    </tr>\n",
       "  </tbody>\n",
       "</table>\n",
       "<p>20000 rows × 2 columns</p>\n",
       "</div>"
      ],
      "text/plain": [
       "                                                   image disease\n",
       "0      1.3.46.670589.30.1.6.1.963334011478.1365397389...       1\n",
       "1      1.3.46.670589.30.1.6.1.963334011478.1431399815...       1\n",
       "2      1.3.46.670589.30.1.6.1.963334086946.1477299370...       1\n",
       "3      1.3.46.670589.30.1.6.1.963334086946.1417402250...       1\n",
       "4      1.3.46.670589.30.1.6.1.963334086946.1452126291...       1\n",
       "...                                                  ...     ...\n",
       "19995  1.3.46.670589.26.702267.22.20121129.103827.1_5...       0\n",
       "19996  1.3.46.670589.30.1.6.1.963334086946.1428396621...       0\n",
       "19997  1.3.46.670589.30.1.3.1.1625143089.130465677253...       0\n",
       "19998  1.3.46.670589.30.1.6.1.963333111298.1517186008...       0\n",
       "19999  1.3.46.670589.30.1.6.1.963333111298.1514010957...       0\n",
       "\n",
       "[20000 rows x 2 columns]"
      ]
     },
     "execution_count": 75,
     "metadata": {},
     "output_type": "execute_result"
    }
   ],
   "source": [
    "df.head(20000)"
   ]
  },
  {
   "cell_type": "code",
   "execution_count": 76,
   "metadata": {
    "ExecuteTime": {
     "end_time": "2020-05-30T05:29:16.818051Z",
     "start_time": "2020-05-30T05:29:16.794183Z"
    }
   },
   "outputs": [],
   "source": [
    "col = 'disease'\n",
    "data = df\n",
    "data[col] = data[col].astype('category')#转换成数据类别类型，pandas用法\n",
    "dummy = pd.get_dummies(data[col])  #get_dummies为pandas里面求哑变量的包\n",
    "#dummy = dummy.add_prefix('{}#'.format(col)) #add_prefix为加上前缀\n",
    "#data.drop(col,axis = 1,inplace = True)\n",
    "data = data.join(dummy) #index即为userid，所以可以用join"
   ]
  },
  {
   "cell_type": "code",
   "execution_count": 85,
   "metadata": {
    "ExecuteTime": {
     "end_time": "2020-05-30T05:37:37.317028Z",
     "start_time": "2020-05-30T05:37:37.308974Z"
    }
   },
   "outputs": [
    {
     "data": {
      "text/plain": [
       "22784"
      ]
     },
     "execution_count": 85,
     "metadata": {},
     "output_type": "execute_result"
    }
   ],
   "source": [
    "len(df)"
   ]
  },
  {
   "cell_type": "code",
   "execution_count": 79,
   "metadata": {
    "ExecuteTime": {
     "end_time": "2020-05-30T05:30:01.588005Z",
     "start_time": "2020-05-30T05:30:01.575791Z"
    }
   },
   "outputs": [],
   "source": [
    "order = ['image','0','1','2','disease']\n",
    "data = data[order]"
   ]
  },
  {
   "cell_type": "code",
   "execution_count": 87,
   "metadata": {
    "ExecuteTime": {
     "end_time": "2020-05-30T05:47:01.921205Z",
     "start_time": "2020-05-30T05:47:01.740787Z"
    }
   },
   "outputs": [],
   "source": [
    "df = data.sample(frac=1.0).reset_index(drop=True)\n",
    "df[0:15949].to_csv(\"../dataset/hip_3cls/training.csv\")\n",
    "df[15949:19227].to_csv(\"../dataset/hip_3cls/validation.csv\")\n",
    "df[18227:].to_csv(\"../dataset/hip_3cls/testing.csv\")\n",
    "#df_train = data.sample(frac=0.7).reset_index(drop=True)\n",
    "#df_train = data.sample(frac=0.7).reset_index(drop=True)\n",
    "#df_train = data.sample(frac=0.7).reset_index(drop=True)"
   ]
  },
  {
   "cell_type": "code",
   "execution_count": null,
   "metadata": {},
   "outputs": [],
   "source": [
    "data.to_csv(\"../../semi_supervised_cls/dataset/hip/testing_fold2.csv\")"
   ]
  }
 ],
 "metadata": {
  "kernelspec": {
   "display_name": "'Python Interactive'",
   "language": "python",
   "name": "e9217d90-e63e-4b01-86e9-b3407b16b732"
  },
  "toc": {
   "base_numbering": 1,
   "nav_menu": {},
   "number_sections": true,
   "sideBar": true,
   "skip_h1_title": false,
   "title_cell": "Table of Contents",
   "title_sidebar": "Contents",
   "toc_cell": false,
   "toc_position": {},
   "toc_section_display": true,
   "toc_window_display": false
  },
  "varInspector": {
   "cols": {
    "lenName": 16,
    "lenType": 16,
    "lenVar": 40
   },
   "kernels_config": {
    "python": {
     "delete_cmd_postfix": "",
     "delete_cmd_prefix": "del ",
     "library": "var_list.py",
     "varRefreshCmd": "print(var_dic_list())"
    },
    "r": {
     "delete_cmd_postfix": ") ",
     "delete_cmd_prefix": "rm(",
     "library": "var_list.r",
     "varRefreshCmd": "cat(var_dic_list()) "
    }
   },
   "types_to_exclude": [
    "module",
    "function",
    "builtin_function_or_method",
    "instance",
    "_Feature"
   ],
   "window_display": false
  }
 },
 "nbformat": 4,
 "nbformat_minor": 4
}
