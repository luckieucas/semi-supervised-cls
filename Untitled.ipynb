{
 "cells": [
  {
   "cell_type": "markdown",
   "metadata": {},
   "source": [
    "# test network"
   ]
  },
  {
   "cell_type": "code",
   "execution_count": 1,
   "metadata": {
    "ExecuteTime": {
     "end_time": "2020-06-16T01:37:19.384273Z",
     "start_time": "2020-06-16T01:37:15.169165Z"
    },
    "scrolled": true
   },
   "outputs": [
    {
     "name": "stderr",
     "output_type": "stream",
     "text": [
      "/home/luckie/anaconda2/envs/py37/lib/python3.7/site-packages/sklearn/utils/deprecation.py:143: FutureWarning: The sklearn.metrics.ranking module is  deprecated in version 0.22 and will be removed in version 0.24. The corresponding classes / functions should instead be imported from sklearn.metrics. Anything that cannot be imported from sklearn.metrics is now part of the private API.\n",
      "  warnings.warn(message, FutureWarning)\n",
      "Using TensorFlow backend.\n",
      "/home/luckie/anaconda2/envs/py37/lib/python3.7/site-packages/tensorflow/python/framework/dtypes.py:516: FutureWarning: Passing (type, 1) or '1type' as a synonym of type is deprecated; in a future version of numpy, it will be understood as (type, (1,)) / '(1,)type'.\n",
      "  _np_qint8 = np.dtype([(\"qint8\", np.int8, 1)])\n",
      "/home/luckie/anaconda2/envs/py37/lib/python3.7/site-packages/tensorflow/python/framework/dtypes.py:517: FutureWarning: Passing (type, 1) or '1type' as a synonym of type is deprecated; in a future version of numpy, it will be understood as (type, (1,)) / '(1,)type'.\n",
      "  _np_quint8 = np.dtype([(\"quint8\", np.uint8, 1)])\n",
      "/home/luckie/anaconda2/envs/py37/lib/python3.7/site-packages/tensorflow/python/framework/dtypes.py:518: FutureWarning: Passing (type, 1) or '1type' as a synonym of type is deprecated; in a future version of numpy, it will be understood as (type, (1,)) / '(1,)type'.\n",
      "  _np_qint16 = np.dtype([(\"qint16\", np.int16, 1)])\n",
      "/home/luckie/anaconda2/envs/py37/lib/python3.7/site-packages/tensorflow/python/framework/dtypes.py:519: FutureWarning: Passing (type, 1) or '1type' as a synonym of type is deprecated; in a future version of numpy, it will be understood as (type, (1,)) / '(1,)type'.\n",
      "  _np_quint16 = np.dtype([(\"quint16\", np.uint16, 1)])\n",
      "/home/luckie/anaconda2/envs/py37/lib/python3.7/site-packages/tensorflow/python/framework/dtypes.py:520: FutureWarning: Passing (type, 1) or '1type' as a synonym of type is deprecated; in a future version of numpy, it will be understood as (type, (1,)) / '(1,)type'.\n",
      "  _np_qint32 = np.dtype([(\"qint32\", np.int32, 1)])\n",
      "/home/luckie/anaconda2/envs/py37/lib/python3.7/site-packages/tensorflow/python/framework/dtypes.py:525: FutureWarning: Passing (type, 1) or '1type' as a synonym of type is deprecated; in a future version of numpy, it will be understood as (type, (1,)) / '(1,)type'.\n",
      "  np_resource = np.dtype([(\"resource\", np.ubyte, 1)])\n",
      "/home/luckie/anaconda2/envs/py37/lib/python3.7/site-packages/tensorboard/compat/tensorflow_stub/dtypes.py:541: FutureWarning: Passing (type, 1) or '1type' as a synonym of type is deprecated; in a future version of numpy, it will be understood as (type, (1,)) / '(1,)type'.\n",
      "  _np_qint8 = np.dtype([(\"qint8\", np.int8, 1)])\n",
      "/home/luckie/anaconda2/envs/py37/lib/python3.7/site-packages/tensorboard/compat/tensorflow_stub/dtypes.py:542: FutureWarning: Passing (type, 1) or '1type' as a synonym of type is deprecated; in a future version of numpy, it will be understood as (type, (1,)) / '(1,)type'.\n",
      "  _np_quint8 = np.dtype([(\"quint8\", np.uint8, 1)])\n",
      "/home/luckie/anaconda2/envs/py37/lib/python3.7/site-packages/tensorboard/compat/tensorflow_stub/dtypes.py:543: FutureWarning: Passing (type, 1) or '1type' as a synonym of type is deprecated; in a future version of numpy, it will be understood as (type, (1,)) / '(1,)type'.\n",
      "  _np_qint16 = np.dtype([(\"qint16\", np.int16, 1)])\n",
      "/home/luckie/anaconda2/envs/py37/lib/python3.7/site-packages/tensorboard/compat/tensorflow_stub/dtypes.py:544: FutureWarning: Passing (type, 1) or '1type' as a synonym of type is deprecated; in a future version of numpy, it will be understood as (type, (1,)) / '(1,)type'.\n",
      "  _np_quint16 = np.dtype([(\"quint16\", np.uint16, 1)])\n",
      "/home/luckie/anaconda2/envs/py37/lib/python3.7/site-packages/tensorboard/compat/tensorflow_stub/dtypes.py:545: FutureWarning: Passing (type, 1) or '1type' as a synonym of type is deprecated; in a future version of numpy, it will be understood as (type, (1,)) / '(1,)type'.\n",
      "  _np_qint32 = np.dtype([(\"qint32\", np.int32, 1)])\n",
      "/home/luckie/anaconda2/envs/py37/lib/python3.7/site-packages/tensorboard/compat/tensorflow_stub/dtypes.py:550: FutureWarning: Passing (type, 1) or '1type' as a synonym of type is deprecated; in a future version of numpy, it will be understood as (type, (1,)) / '(1,)type'.\n",
      "  np_resource = np.dtype([(\"resource\", np.ubyte, 1)])\n"
     ]
    }
   ],
   "source": [
    "import os\n",
    "import sys\n",
    "# from tensorboardX import SummaryWriter\n",
    "import shutil\n",
    "import argparse\n",
    "import logging\n",
    "import time\n",
    "import random\n",
    "import numpy as np\n",
    "import pandas as pd\n",
    "from tensorboardX import SummaryWriter\n",
    "\n",
    "import torch\n",
    "from torch import nn\n",
    "import torch.optim as optim\n",
    "from torchvision import transforms\n",
    "import torch.nn.functional as F\n",
    "import torch.backends.cudnn as cudnn\n",
    "from torch.utils.data import DataLoader\n",
    "from torchvision.utils import make_grid\n",
    "import pretrainedmodels\n",
    "\n",
    "from networks.models import DenseNet121,DenseNet161\n",
    "from utils import losses, ramps\n",
    "from utils.metrics import compute_AUCs\n",
    "from utils.metric_logger import MetricLogger\n",
    "from dataloaders import  dataset\n",
    "from dataloaders import chest_xray_14\n",
    "from dataloaders.dataset import TwoStreamBatchSampler\n",
    "from utils.util import get_timestamp\n",
    "from validation import epochVal, epochVal_metrics"
   ]
  },
  {
   "cell_type": "code",
   "execution_count": 70,
   "metadata": {
    "ExecuteTime": {
     "end_time": "2020-06-10T08:38:59.689821Z",
     "start_time": "2020-06-10T08:38:59.625663Z"
    }
   },
   "outputs": [
    {
     "name": "stdout",
     "output_type": "stream",
     "text": [
      "single label  Total # images:18262, labels:18262\n",
      "train_dataset len: 18262\n",
      "labeled_num: 3652\n"
     ]
    }
   ],
   "source": [
    "normalize = transforms.Normalize([0.605, 0.605, 0.605],\n",
    "                                     [0.156, 0.156, 0.156])\n",
    "train_dataset = dataset.CheXpertDataset(root_dir='../dataset/hip_4cls/training_data/',\n",
    "                                        csv_file='../dataset/hip_4cls/training_sample_single_class.csv',\n",
    "                                        transform=dataset.TransformTwice(transforms.Compose([\n",
    "                                            transforms.Resize((224, 224)),\n",
    "                                            transforms.RandomAffine(degrees=10, translate=(0.02, 0.02)),\n",
    "                                            transforms.RandomHorizontalFlip(),\n",
    "                                            # transforms.ColorJitter(brightness=0.4, contrast=0.4, saturation=0.4, hue=0.1),\n",
    "                                            # transforms.RandomRotation(10),\n",
    "                                            # transforms.RandomResizedCrop(224),\n",
    "                                            transforms.ToTensor(),\n",
    "                                            normalize,\n",
    "                                        ])))\n",
    "print(\"train_dataset len:\",len(train_dataset))\n",
    "train_dataset_num = len(train_dataset)\n",
    "labeled_num = int(train_dataset_num*0.2)\n",
    "print(\"labeled_num:\",labeled_num)\n",
    "labeled_idxs = list(range(labeled_num))unlabeled_idxs = list(range(labeled_num, train_dataset_num))\n",
    "batch_size = 16\n",
    "labeled_bs = 4\n",
    "batch_sampler = TwoStreamBatchSampler(labeled_idxs, unlabeled_idxs, batch_size, batch_size-labeled_bs)\n",
    "def worker_init_fn(worker_id):\n",
    "    random.seed(20000+worker_id)\n",
    "train_dataloader = DataLoader(dataset=train_dataset, batch_sampler=batch_sampler,\n",
    "                                  num_workers=8, pin_memory=True, worker_init_fn=worker_init_fn)"
   ]
  },
  {
   "cell_type": "code",
   "execution_count": 70,
   "metadata": {
    "ExecuteTime": {
     "end_time": "2020-06-10T08:38:59.689821Z",
     "start_time": "2020-06-10T08:38:59.625663Z"
    }
   },
   "outputs": [
    {
     "name": "stdout",
     "output_type": "stream",
     "text": [
      "single label  Total # images:18262, labels:18262\n",
      "train_dataset len: 18262\n",
      "labeled_num: 3652\n"
     ]
    }
   ],
   "source": []
  },
  {
   "cell_type": "code",
   "execution_count": 72,
   "metadata": {
    "ExecuteTime": {
     "end_time": "2020-06-10T08:39:58.708025Z",
     "start_time": "2020-06-10T08:39:54.907924Z"
    }
   },
   "outputs": [
    {
     "name": "stdout",
     "output_type": "stream",
     "text": [
      "torch.Size([12, 3, 224, 224])\n",
      "0\n"
     ]
    }
   ],
   "source": [
    "label_count = torch.LongTensor([-1])\n",
    "for i, (_,_, (image_batch, ema_image_batch), label_batch) in enumerate(train_dataloader):\n",
    "    print(image_batch[labeled_bs:].shape)\n",
    "    \n",
    "    time2 = time.time()\n",
    "    label_count = torch.cat((label_count, torch.argmax(label_batch[:labeled_bs], dim=1)), 0)\n",
    "    break\n",
    "print(i)"
   ]
  },
  {
   "cell_type": "code",
   "execution_count": 65,
   "metadata": {
    "ExecuteTime": {
     "end_time": "2020-06-10T02:36:27.365213Z",
     "start_time": "2020-06-10T02:36:27.340280Z"
    }
   },
   "outputs": [],
   "source": [
    "total = [0,0,0,0]\n",
    "for i in range(1,len(label_count)):\n",
    "    label = label_count[i]\n",
    "    total[label]+=1"
   ]
  },
  {
   "cell_type": "code",
   "execution_count": 67,
   "metadata": {
    "ExecuteTime": {
     "end_time": "2020-06-10T02:36:36.639352Z",
     "start_time": "2020-06-10T02:36:36.630716Z"
    }
   },
   "outputs": [
    {
     "data": {
      "text/plain": [
       "[843, 809, 1377, 623]"
      ]
     },
     "execution_count": 67,
     "metadata": {},
     "output_type": "execute_result"
    }
   ],
   "source": [
    "total"
   ]
  },
  {
   "cell_type": "code",
   "execution_count": 66,
   "metadata": {
    "ExecuteTime": {
     "end_time": "2020-06-10T02:36:27.494318Z",
     "start_time": "2020-06-10T02:36:27.489907Z"
    }
   },
   "outputs": [],
   "source": [
    "def _l2_normalize(d):\n",
    "    d_reshaped = d.view(d.shape[0], -1, *(1 for _ in range(d.dim() - 2)))\n",
    "    print(\"d_reshaped:\",d_reshaped.shape)\n",
    "    d /= torch.norm(d_reshaped, dim=1, keepdim=True) + 1e-8\n",
    "    return d"
   ]
  },
  {
   "cell_type": "code",
   "execution_count": 17,
   "metadata": {
    "ExecuteTime": {
     "end_time": "2020-06-09T09:14:03.362419Z",
     "start_time": "2020-06-09T09:14:03.349816Z"
    },
    "collapsed": true
   },
   "outputs": [
    {
     "data": {
      "text/plain": [
       "tensor([[[[-0.4740, -0.1479,  0.0213],\n",
       "          [ 0.1525,  0.0860, -0.0497],\n",
       "          [-0.3471,  0.4144, -0.4406]],\n",
       "\n",
       "         [[ 0.4307,  0.1850, -0.3408],\n",
       "          [-0.3131,  0.2307,  0.3719],\n",
       "          [ 0.0996, -0.4852,  0.3528]],\n",
       "\n",
       "         [[ 0.0250, -0.0545, -0.1182],\n",
       "          [ 0.0102,  0.4531,  0.0390],\n",
       "          [ 0.3984, -0.1240,  0.4466]],\n",
       "\n",
       "         [[ 0.2386, -0.0891,  0.3649],\n",
       "          [ 0.2959, -0.2016,  0.0600],\n",
       "          [ 0.3187, -0.0802, -0.0120]]],\n",
       "\n",
       "\n",
       "        [[[-0.4882, -0.0283, -0.3267],\n",
       "          [-0.1159, -0.4544,  0.2903],\n",
       "          [-0.4070, -0.4008,  0.4313]],\n",
       "\n",
       "         [[-0.3823,  0.2470, -0.0429],\n",
       "          [-0.3773, -0.1993, -0.1618],\n",
       "          [-0.1521,  0.3149, -0.1324]],\n",
       "\n",
       "         [[ 0.1960,  0.0499,  0.1549],\n",
       "          [-0.3724, -0.4344, -0.3234],\n",
       "          [ 0.3451, -0.3967,  0.1538]],\n",
       "\n",
       "         [[-0.3440, -0.3391,  0.0415],\n",
       "          [ 0.1372, -0.4800, -0.3406],\n",
       "          [ 0.2300, -0.2138,  0.0089]]],\n",
       "\n",
       "\n",
       "        [[[-0.4839, -0.4972, -0.2303],\n",
       "          [ 0.3743,  0.2580,  0.2462],\n",
       "          [ 0.3279,  0.2064,  0.0539]],\n",
       "\n",
       "         [[ 0.4077, -0.2953,  0.1978],\n",
       "          [ 0.0954, -0.0967,  0.1645],\n",
       "          [-0.4289,  0.1762, -0.3786]],\n",
       "\n",
       "         [[ 0.1537,  0.3459,  0.3481],\n",
       "          [-0.3455, -0.0508, -0.1925],\n",
       "          [-0.4300, -0.0728, -0.3962]],\n",
       "\n",
       "         [[ 0.0610,  0.1612,  0.0528],\n",
       "          [ 0.0920,  0.1444,  0.1098],\n",
       "          [-0.3184, -0.4603, -0.2783]]],\n",
       "\n",
       "\n",
       "        [[[-0.0828,  0.1724, -0.4819],\n",
       "          [-0.4933,  0.2861,  0.0243],\n",
       "          [-0.0264,  0.2533, -0.0217]],\n",
       "\n",
       "         [[-0.4464, -0.2036,  0.1052],\n",
       "          [ 0.1813,  0.4237, -0.2834],\n",
       "          [-0.2318,  0.1870, -0.2841]],\n",
       "\n",
       "         [[-0.3684, -0.0243,  0.0906],\n",
       "          [ 0.1534,  0.1567,  0.3275],\n",
       "          [-0.2033, -0.4357,  0.0750]],\n",
       "\n",
       "         [[ 0.3086,  0.4508, -0.3302],\n",
       "          [ 0.1147,  0.0069, -0.3673],\n",
       "          [ 0.3786,  0.2007,  0.3703]]]])"
      ]
     },
     "execution_count": 17,
     "metadata": {},
     "output_type": "execute_result"
    }
   ],
   "source": [
    "d = torch.rand([4,4,3,3]).sub(0.5)\n",
    "d"
   ]
  },
  {
   "cell_type": "code",
   "execution_count": 18,
   "metadata": {
    "ExecuteTime": {
     "end_time": "2020-06-09T09:14:10.209953Z",
     "start_time": "2020-06-09T09:14:10.193177Z"
    }
   },
   "outputs": [
    {
     "name": "stdout",
     "output_type": "stream",
     "text": [
      "d_reshaped: torch.Size([4, 36, 1, 1])\n"
     ]
    },
    {
     "data": {
      "text/plain": [
       "tensor([[[[-0.2834, -0.0884,  0.0127],\n",
       "          [ 0.0912,  0.0514, -0.0297],\n",
       "          [-0.2075,  0.2478, -0.2634]],\n",
       "\n",
       "         [[ 0.2575,  0.1106, -0.2038],\n",
       "          [-0.1872,  0.1379,  0.2223],\n",
       "          [ 0.0595, -0.2901,  0.2110]],\n",
       "\n",
       "         [[ 0.0149, -0.0326, -0.0706],\n",
       "          [ 0.0061,  0.2709,  0.0233],\n",
       "          [ 0.2382, -0.0742,  0.2670]],\n",
       "\n",
       "         [[ 0.1426, -0.0532,  0.2182],\n",
       "          [ 0.1769, -0.1205,  0.0359],\n",
       "          [ 0.1906, -0.0479, -0.0072]]],\n",
       "\n",
       "\n",
       "        [[[-0.2722, -0.0158, -0.1822],\n",
       "          [-0.0646, -0.2534,  0.1619],\n",
       "          [-0.2270, -0.2235,  0.2405]],\n",
       "\n",
       "         [[-0.2132,  0.1377, -0.0239],\n",
       "          [-0.2104, -0.1111, -0.0902],\n",
       "          [-0.0848,  0.1756, -0.0738]],\n",
       "\n",
       "         [[ 0.1093,  0.0278,  0.0864],\n",
       "          [-0.2077, -0.2423, -0.1804],\n",
       "          [ 0.1925, -0.2212,  0.0857]],\n",
       "\n",
       "         [[-0.1918, -0.1891,  0.0231],\n",
       "          [ 0.0765, -0.2677, -0.1899],\n",
       "          [ 0.1283, -0.1193,  0.0050]]],\n",
       "\n",
       "\n",
       "        [[[-0.2848, -0.2927, -0.1355],\n",
       "          [ 0.2203,  0.1519,  0.1449],\n",
       "          [ 0.1930,  0.1215,  0.0317]],\n",
       "\n",
       "         [[ 0.2400, -0.1738,  0.1164],\n",
       "          [ 0.0561, -0.0569,  0.0968],\n",
       "          [-0.2525,  0.1037, -0.2228]],\n",
       "\n",
       "         [[ 0.0905,  0.2036,  0.2049],\n",
       "          [-0.2034, -0.0299, -0.1133],\n",
       "          [-0.2531, -0.0428, -0.2332]],\n",
       "\n",
       "         [[ 0.0359,  0.0949,  0.0311],\n",
       "          [ 0.0541,  0.0850,  0.0647],\n",
       "          [-0.1874, -0.2709, -0.1638]]],\n",
       "\n",
       "\n",
       "        [[[-0.0496,  0.1033, -0.2887],\n",
       "          [-0.2955,  0.1714,  0.0146],\n",
       "          [-0.0158,  0.1517, -0.0130]],\n",
       "\n",
       "         [[-0.2674, -0.1219,  0.0630],\n",
       "          [ 0.1086,  0.2538, -0.1698],\n",
       "          [-0.1389,  0.1120, -0.1702]],\n",
       "\n",
       "         [[-0.2207, -0.0146,  0.0543],\n",
       "          [ 0.0919,  0.0939,  0.1962],\n",
       "          [-0.1218, -0.2610,  0.0449]],\n",
       "\n",
       "         [[ 0.1849,  0.2700, -0.1978],\n",
       "          [ 0.0687,  0.0041, -0.2200],\n",
       "          [ 0.2268,  0.1202,  0.2218]]]])"
      ]
     },
     "execution_count": 18,
     "metadata": {},
     "output_type": "execute_result"
    }
   ],
   "source": [
    "_l2_normalize(d)"
   ]
  },
  {
   "cell_type": "code",
   "execution_count": 8,
   "metadata": {
    "ExecuteTime": {
     "end_time": "2020-05-29T12:27:33.609898Z",
     "start_time": "2020-05-29T12:27:33.589856Z"
    }
   },
   "outputs": [
    {
     "name": "stdout",
     "output_type": "stream",
     "text": [
      "single label  Total # images:494, labels:494\n"
     ]
    }
   ],
   "source": [
    "normalize = transforms.Normalize([0.605, 0.605, 0.605],\n",
    "                                     [0.156, 0.156, 0.156])\n",
    "test_dataset = dataset.CheXpertDataset(root_dir='../dataset/hip/training_data/',\n",
    "                                      csv_file='../dataset/hip/testing_fold1.csv',\n",
    "                                      transform=transforms.Compose([\n",
    "                                          transforms.Resize((256, 256)),\n",
    "                                          transforms.ToTensor(),\n",
    "                                          normalize,\n",
    "                                      ]))\n",
    "test_dataloader = DataLoader(dataset=test_dataset, batch_size=1,\n",
    "                                shuffle=True, num_workers=8, pin_memory=True)"
   ]
  },
  {
   "cell_type": "code",
   "execution_count": 47,
   "metadata": {
    "ExecuteTime": {
     "end_time": "2020-05-29T17:17:32.732539Z",
     "start_time": "2020-05-29T17:17:32.700748Z"
    }
   },
   "outputs": [
    {
     "data": {
      "text/plain": [
       "('3859392_1-1.3.46.670589.30.1.6.1.963335011642.1493426097125.1_L_0_512.png',\n",
       " 200,\n",
       " tensor([[[-0.4845, -0.5600, -0.5097,  ...,  0.8478,  0.8478,  0.9232],\n",
       "          [-0.5348, -0.4845, -0.4845,  ...,  0.8226,  0.7472,  0.7724],\n",
       "          [-0.6102, -0.4594, -0.5097,  ...,  0.8981,  0.8478,  0.7975],\n",
       "          ...,\n",
       "          [ 1.1243,  0.9986,  0.8226,  ...,  0.0182, -0.1829, -0.2583],\n",
       "          [ 1.0238,  0.8226,  0.3450,  ...,  0.1942, -0.0321, -0.1577],\n",
       "          [ 0.9232,  0.4959,  0.1188,  ...,  0.0685,  0.0182, -0.1326]],\n",
       " \n",
       "         [[-0.4845, -0.5600, -0.5097,  ...,  0.8478,  0.8478,  0.9232],\n",
       "          [-0.5348, -0.4845, -0.4845,  ...,  0.8226,  0.7472,  0.7724],\n",
       "          [-0.6102, -0.4594, -0.5097,  ...,  0.8981,  0.8478,  0.7975],\n",
       "          ...,\n",
       "          [ 1.1243,  0.9986,  0.8226,  ...,  0.0182, -0.1829, -0.2583],\n",
       "          [ 1.0238,  0.8226,  0.3450,  ...,  0.1942, -0.0321, -0.1577],\n",
       "          [ 0.9232,  0.4959,  0.1188,  ...,  0.0685,  0.0182, -0.1326]],\n",
       " \n",
       "         [[-0.4845, -0.5600, -0.5097,  ...,  0.8478,  0.8478,  0.9232],\n",
       "          [-0.5348, -0.4845, -0.4845,  ...,  0.8226,  0.7472,  0.7724],\n",
       "          [-0.6102, -0.4594, -0.5097,  ...,  0.8981,  0.8478,  0.7975],\n",
       "          ...,\n",
       "          [ 1.1243,  0.9986,  0.8226,  ...,  0.0182, -0.1829, -0.2583],\n",
       "          [ 1.0238,  0.8226,  0.3450,  ...,  0.1942, -0.0321, -0.1577],\n",
       "          [ 0.9232,  0.4959,  0.1188,  ...,  0.0685,  0.0182, -0.1326]]]),\n",
       " tensor([1., 0., 0.]))"
      ]
     },
     "execution_count": 47,
     "metadata": {},
     "output_type": "execute_result"
    }
   ],
   "source": [
    "a = [1,2,10]\n",
    "test_dataset[200]"
   ]
  },
  {
   "cell_type": "code",
   "execution_count": 13,
   "metadata": {
    "ExecuteTime": {
     "end_time": "2020-05-29T12:40:14.743461Z",
     "start_time": "2020-05-29T12:40:14.217113Z"
    }
   },
   "outputs": [],
   "source": [
    "a = torch.load(\"../model/0528_hip_test_label_rate09/checkpoint/epoch_12.pth\")"
   ]
  },
  {
   "cell_type": "code",
   "execution_count": 17,
   "metadata": {
    "ExecuteTime": {
     "end_time": "2020-05-29T12:55:32.798518Z",
     "start_time": "2020-05-29T12:55:32.792555Z"
    }
   },
   "outputs": [
    {
     "data": {
      "text/plain": [
       "dict_keys(['epoch', 'global_step', 'state_dict', 'ema_state_dict', 'optimizer', 'epochs'])"
      ]
     },
     "execution_count": 17,
     "metadata": {},
     "output_type": "execute_result"
    }
   ],
   "source": [
    "a.keys()"
   ]
  },
  {
   "cell_type": "code",
   "execution_count": 19,
   "metadata": {
    "ExecuteTime": {
     "end_time": "2020-05-29T12:58:24.560103Z",
     "start_time": "2020-05-29T12:58:23.758560Z"
    }
   },
   "outputs": [
    {
     "data": {
      "text/plain": [
       "<All keys matched successfully>"
      ]
     },
     "execution_count": 19,
     "metadata": {},
     "output_type": "execute_result"
    }
   ],
   "source": [
    "net = DenseNet121(out_size=3, mode='U-Ones', drop_rate=0.2)\n",
    "net = torch.nn.DataParallel(net)\n",
    "net = net.cuda()\n",
    "checkpoint = torch.load(\"../model/0528_hip_test_label_rate09/checkpoint/epoch_12.pth\")\n",
    "net.load_state_dict(checkpoint['state_dict'])\n"
   ]
  },
  {
   "cell_type": "code",
   "execution_count": 40,
   "metadata": {
    "ExecuteTime": {
     "end_time": "2020-05-29T13:23:10.901221Z",
     "start_time": "2020-05-29T13:23:01.367348Z"
    }
   },
   "outputs": [
    {
     "name": "stdout",
     "output_type": "stream",
     "text": [
      "gt label: tensor([1], device='cuda:0')\n",
      "pred_label: tensor([2], device='cuda:0')\n",
      "gt label: tensor([1], device='cuda:0')\n",
      "pred_label: tensor([1], device='cuda:0')\n",
      "gt label: tensor([1], device='cuda:0')\n",
      "pred_label: tensor([0], device='cuda:0')\n",
      "gt label: tensor([1], device='cuda:0')\n",
      "pred_label: tensor([0], device='cuda:0')\n",
      "gt label: tensor([1], device='cuda:0')\n",
      "pred_label: tensor([0], device='cuda:0')\n",
      "gt label: tensor([1], device='cuda:0')\n",
      "pred_label: tensor([0], device='cuda:0')\n",
      "gt label: tensor([1], device='cuda:0')\n",
      "pred_label: tensor([1], device='cuda:0')\n",
      "gt label: tensor([1], device='cuda:0')\n",
      "pred_label: tensor([2], device='cuda:0')\n",
      "gt label: tensor([1], device='cuda:0')\n",
      "pred_label: tensor([0], device='cuda:0')\n",
      "gt label: tensor([1], device='cuda:0')\n",
      "pred_label: tensor([0], device='cuda:0')\n",
      "gt label: tensor([1], device='cuda:0')\n",
      "pred_label: tensor([1], device='cuda:0')\n",
      "gt label: tensor([1], device='cuda:0')\n",
      "pred_label: tensor([0], device='cuda:0')\n",
      "gt label: tensor([1], device='cuda:0')\n",
      "pred_label: tensor([0], device='cuda:0')\n",
      "gt label: tensor([1], device='cuda:0')\n",
      "pred_label: tensor([2], device='cuda:0')\n",
      "gt label: tensor([1], device='cuda:0')\n",
      "pred_label: tensor([0], device='cuda:0')\n",
      "gt label: tensor([1], device='cuda:0')\n",
      "pred_label: tensor([0], device='cuda:0')\n",
      "gt label: tensor([1], device='cuda:0')\n",
      "pred_label: tensor([1], device='cuda:0')\n",
      "gt label: tensor([1], device='cuda:0')\n",
      "pred_label: tensor([1], device='cuda:0')\n",
      "gt label: tensor([1], device='cuda:0')\n",
      "pred_label: tensor([1], device='cuda:0')\n",
      "gt label: tensor([1], device='cuda:0')\n",
      "pred_label: tensor([0], device='cuda:0')\n",
      "gt label: tensor([1], device='cuda:0')\n",
      "pred_label: tensor([1], device='cuda:0')\n",
      "gt label: tensor([1], device='cuda:0')\n",
      "pred_label: tensor([1], device='cuda:0')\n",
      "gt label: tensor([1], device='cuda:0')\n",
      "pred_label: tensor([1], device='cuda:0')\n",
      "gt label: tensor([1], device='cuda:0')\n",
      "pred_label: tensor([0], device='cuda:0')\n",
      "gt label: tensor([1], device='cuda:0')\n",
      "pred_label: tensor([0], device='cuda:0')\n",
      "gt label: tensor([1], device='cuda:0')\n",
      "pred_label: tensor([0], device='cuda:0')\n",
      "gt label: tensor([1], device='cuda:0')\n",
      "pred_label: tensor([0], device='cuda:0')\n",
      "gt label: tensor([1], device='cuda:0')\n",
      "pred_label: tensor([0], device='cuda:0')\n",
      "gt label: tensor([1], device='cuda:0')\n",
      "pred_label: tensor([0], device='cuda:0')\n",
      "gt label: tensor([1], device='cuda:0')\n",
      "pred_label: tensor([0], device='cuda:0')\n",
      "gt label: tensor([1], device='cuda:0')\n",
      "pred_label: tensor([0], device='cuda:0')\n",
      "gt label: tensor([1], device='cuda:0')\n",
      "pred_label: tensor([1], device='cuda:0')\n",
      "gt label: tensor([1], device='cuda:0')\n",
      "pred_label: tensor([0], device='cuda:0')\n",
      "gt label: tensor([1], device='cuda:0')\n",
      "pred_label: tensor([1], device='cuda:0')\n",
      "gt label: tensor([1], device='cuda:0')\n",
      "pred_label: tensor([0], device='cuda:0')\n",
      "gt label: tensor([1], device='cuda:0')\n",
      "pred_label: tensor([0], device='cuda:0')\n",
      "gt label: tensor([1], device='cuda:0')\n",
      "pred_label: tensor([0], device='cuda:0')\n",
      "gt label: tensor([1], device='cuda:0')\n",
      "pred_label: tensor([2], device='cuda:0')\n",
      "gt label: tensor([1], device='cuda:0')\n",
      "pred_label: tensor([0], device='cuda:0')\n",
      "gt label: tensor([1], device='cuda:0')\n",
      "pred_label: tensor([0], device='cuda:0')\n",
      "gt label: tensor([1], device='cuda:0')\n",
      "pred_label: tensor([2], device='cuda:0')\n",
      "gt label: tensor([1], device='cuda:0')\n",
      "pred_label: tensor([0], device='cuda:0')\n",
      "gt label: tensor([1], device='cuda:0')\n",
      "pred_label: tensor([0], device='cuda:0')\n",
      "gt label: tensor([1], device='cuda:0')\n",
      "pred_label: tensor([0], device='cuda:0')\n",
      "gt label: tensor([1], device='cuda:0')\n",
      "pred_label: tensor([0], device='cuda:0')\n",
      "gt label: tensor([1], device='cuda:0')\n",
      "pred_label: tensor([0], device='cuda:0')\n",
      "gt label: tensor([1], device='cuda:0')\n",
      "pred_label: tensor([1], device='cuda:0')\n",
      "gt label: tensor([1], device='cuda:0')\n",
      "pred_label: tensor([2], device='cuda:0')\n",
      "gt label: tensor([1], device='cuda:0')\n",
      "pred_label: tensor([2], device='cuda:0')\n",
      "gt label: tensor([1], device='cuda:0')\n",
      "pred_label: tensor([0], device='cuda:0')\n",
      "gt label: tensor([1], device='cuda:0')\n",
      "pred_label: tensor([0], device='cuda:0')\n",
      "gt label: tensor([1], device='cuda:0')\n",
      "pred_label: tensor([2], device='cuda:0')\n",
      "gt label: tensor([1], device='cuda:0')\n",
      "pred_label: tensor([1], device='cuda:0')\n",
      "gt label: tensor([1], device='cuda:0')\n",
      "pred_label: tensor([0], device='cuda:0')\n",
      "gt label: tensor([1], device='cuda:0')\n",
      "pred_label: tensor([0], device='cuda:0')\n",
      "gt label: tensor([1], device='cuda:0')\n",
      "pred_label: tensor([1], device='cuda:0')\n",
      "gt label: tensor([1], device='cuda:0')\n",
      "pred_label: tensor([1], device='cuda:0')\n",
      "gt label: tensor([1], device='cuda:0')\n",
      "pred_label: tensor([0], device='cuda:0')\n",
      "gt label: tensor([1], device='cuda:0')\n",
      "pred_label: tensor([1], device='cuda:0')\n",
      "gt label: tensor([1], device='cuda:0')\n",
      "pred_label: tensor([0], device='cuda:0')\n",
      "gt label: tensor([1], device='cuda:0')\n",
      "pred_label: tensor([0], device='cuda:0')\n",
      "gt label: tensor([1], device='cuda:0')\n",
      "pred_label: tensor([0], device='cuda:0')\n",
      "gt label: tensor([1], device='cuda:0')\n",
      "pred_label: tensor([0], device='cuda:0')\n",
      "gt label: tensor([1], device='cuda:0')\n",
      "pred_label: tensor([0], device='cuda:0')\n"
     ]
    }
   ],
   "source": [
    "net.eval()\n",
    "count = 0\n",
    "total = 0\n",
    "for i, (study, _, image, label) in enumerate(test_dataloader):\n",
    "    #print(\"image:\",study)\n",
    "    image,label = image.cuda(),label.cuda()\n",
    "    gt_label = torch.max(label, 1)[1]\n",
    "    if gt_label == 1:\n",
    "        total +=1\n",
    "        print(\"gt label:\",gt_label)\n",
    "        _,output = net(image)\n",
    "        pred_label = torch.max(output, 1)[1]\n",
    "        if pred_label == gt_label:\n",
    "            count+=1\n",
    "        print(\"pred_label:\",pred_label)"
   ]
  },
  {
   "cell_type": "code",
   "execution_count": 38,
   "metadata": {
    "ExecuteTime": {
     "end_time": "2020-05-29T13:21:13.962734Z",
     "start_time": "2020-05-29T13:21:13.954344Z"
    }
   },
   "outputs": [
    {
     "data": {
      "text/plain": [
       "16"
      ]
     },
     "execution_count": 38,
     "metadata": {},
     "output_type": "execute_result"
    }
   ],
   "source": [
    "count"
   ]
  },
  {
   "cell_type": "code",
   "execution_count": 35,
   "metadata": {
    "ExecuteTime": {
     "end_time": "2020-05-29T13:17:04.241069Z",
     "start_time": "2020-05-29T13:17:04.232671Z"
    }
   },
   "outputs": [
    {
     "data": {
      "text/plain": [
       "494"
      ]
     },
     "execution_count": 35,
     "metadata": {},
     "output_type": "execute_result"
    }
   ],
   "source": [
    "len(test_dataset)"
   ]
  },
  {
   "cell_type": "code",
   "execution_count": 39,
   "metadata": {
    "ExecuteTime": {
     "end_time": "2020-05-29T13:21:26.269959Z",
     "start_time": "2020-05-29T13:21:26.264360Z"
    }
   },
   "outputs": [
    {
     "data": {
      "text/plain": [
       "64"
      ]
     },
     "execution_count": 39,
     "metadata": {},
     "output_type": "execute_result"
    }
   ],
   "source": [
    "total"
   ]
  },
  {
   "cell_type": "code",
   "execution_count": 140,
   "metadata": {
    "ExecuteTime": {
     "end_time": "2020-05-31T05:05:13.592348Z",
     "start_time": "2020-05-31T05:05:13.541297Z"
    }
   },
   "outputs": [],
   "source": [
    "import pandas as pd \n",
    "df = pd.read_csv(\"../dataset/hip_4cls/training.csv\")"
   ]
  },
  {
   "cell_type": "code",
   "execution_count": 137,
   "metadata": {
    "ExecuteTime": {
     "end_time": "2020-05-31T05:03:50.615647Z",
     "start_time": "2020-05-31T05:03:50.604461Z"
    }
   },
   "outputs": [],
   "source": [
    "df = df.sample(frac = 0.025)"
   ]
  },
  {
   "cell_type": "code",
   "execution_count": 138,
   "metadata": {
    "ExecuteTime": {
     "end_time": "2020-05-31T05:03:54.775963Z",
     "start_time": "2020-05-31T05:03:54.768960Z"
    }
   },
   "outputs": [
    {
     "data": {
      "text/plain": [
       "544"
      ]
     },
     "execution_count": 138,
     "metadata": {},
     "output_type": "execute_result"
    }
   ],
   "source": [
    "len(df)"
   ]
  },
  {
   "cell_type": "code",
   "execution_count": 139,
   "metadata": {
    "ExecuteTime": {
     "end_time": "2020-05-31T05:04:09.072557Z",
     "start_time": "2020-05-31T05:04:09.057197Z"
    }
   },
   "outputs": [],
   "source": [
    "df.to_csv(\"../dataset/hip_4cls/training_frac002.csv\",index=0)"
   ]
  },
  {
   "cell_type": "markdown",
   "metadata": {},
   "source": [
    "# get  traing data split"
   ]
  },
  {
   "cell_type": "code",
   "execution_count": 65,
   "metadata": {
    "ExecuteTime": {
     "end_time": "2020-05-30T05:22:55.010559Z",
     "start_time": "2020-05-30T05:22:55.005900Z"
    }
   },
   "outputs": [],
   "source": [
    "from glob import glob"
   ]
  },
  {
   "cell_type": "code",
   "execution_count": 106,
   "metadata": {
    "ExecuteTime": {
     "end_time": "2020-05-31T02:33:58.197584Z",
     "start_time": "2020-05-31T02:33:57.276866Z"
    }
   },
   "outputs": [],
   "source": [
    "data_list = glob(\"../../hipX_largedata/data/512_2-1_train_3cls_new/*/*/*png\")"
   ]
  },
  {
   "cell_type": "code",
   "execution_count": 107,
   "metadata": {
    "ExecuteTime": {
     "end_time": "2020-05-31T02:34:11.629166Z",
     "start_time": "2020-05-31T02:34:11.622515Z"
    }
   },
   "outputs": [
    {
     "data": {
      "text/plain": [
       "22784"
      ]
     },
     "execution_count": 107,
     "metadata": {},
     "output_type": "execute_result"
    }
   ],
   "source": [
    "len(data_list)"
   ]
  },
  {
   "cell_type": "code",
   "execution_count": 109,
   "metadata": {
    "ExecuteTime": {
     "end_time": "2020-05-31T02:35:41.737135Z",
     "start_time": "2020-05-31T02:35:18.657998Z"
    }
   },
   "outputs": [],
   "source": [
    "# for semi-supervised\n",
    "df =pd.DataFrame(columns=('image','disease'))\n",
    "for img in data_list:\n",
    "    img_name = img.split(\"/\")[-1]\n",
    "    label = img.split(\"/\")[-2][0]\n",
    "    df=df.append(pd.DataFrame({'image':[img_name],'disease':[label]}),ignore_index=True)"
   ]
  },
  {
   "cell_type": "code",
   "execution_count": 110,
   "metadata": {
    "ExecuteTime": {
     "end_time": "2020-05-31T02:36:45.625264Z",
     "start_time": "2020-05-31T02:36:45.551908Z"
    }
   },
   "outputs": [],
   "source": [
    "df.to_csv(\"../../semi_supervised_cls/dataset/hip_4cls/training2.csv\",index=0)"
   ]
  },
  {
   "cell_type": "code",
   "execution_count": 111,
   "metadata": {
    "ExecuteTime": {
     "end_time": "2020-05-31T02:40:29.851680Z",
     "start_time": "2020-05-31T02:40:29.801900Z"
    }
   },
   "outputs": [],
   "source": [
    "df = pd.read_csv(\"../../semi_supervised_cls/dataset/hip_4cls/training2.csv\")"
   ]
  },
  {
   "cell_type": "code",
   "execution_count": 112,
   "metadata": {
    "ExecuteTime": {
     "end_time": "2020-05-31T02:40:41.547137Z",
     "start_time": "2020-05-31T02:40:41.529568Z"
    }
   },
   "outputs": [],
   "source": [
    "col = 'disease'\n",
    "data = df\n",
    "data[col] = data[col].astype('category')#转换成数据类别类型，pandas用法\n",
    "dummy = pd.get_dummies(data[col])  #get_dummies为pandas里面求哑变量的包\n",
    "#dummy = dummy.add_prefix('{}#'.format(col)) #add_prefix为加上前缀\n",
    "#data.drop(col,axis = 1,inplace = True)\n",
    "data = data.join(dummy) #index即为userid，所以可以用join"
   ]
  },
  {
   "cell_type": "code",
   "execution_count": 117,
   "metadata": {
    "ExecuteTime": {
     "end_time": "2020-05-31T02:42:18.945256Z",
     "start_time": "2020-05-31T02:42:18.938157Z"
    }
   },
   "outputs": [
    {
     "data": {
      "text/plain": [
       "27188"
      ]
     },
     "execution_count": 117,
     "metadata": {},
     "output_type": "execute_result"
    }
   ],
   "source": [
    "len(data)"
   ]
  },
  {
   "cell_type": "code",
   "execution_count": 116,
   "metadata": {
    "ExecuteTime": {
     "end_time": "2020-05-31T02:41:50.311795Z",
     "start_time": "2020-05-31T02:41:50.297741Z"
    }
   },
   "outputs": [],
   "source": [
    "order = ['image',0,1,2,3,'disease']\n",
    "data = data[order]"
   ]
  },
  {
   "cell_type": "code",
   "execution_count": 118,
   "metadata": {
    "ExecuteTime": {
     "end_time": "2020-05-31T02:44:29.610708Z",
     "start_time": "2020-05-31T02:44:29.342159Z"
    }
   },
   "outputs": [],
   "source": [
    "df = data.sample(frac=1.0).reset_index(drop=True)\n",
    "df[0:19032].to_csv(\"../dataset/hip_4cls/training.csv\",index=0)\n",
    "df[19032:21750].to_csv(\"../dataset/hip_4cls/validation.csv\",index=0)\n",
    "df[21750:].to_csv(\"../dataset/hip_4cls/testing.csv\",index=0)\n",
    "#df_train = data.sample(frac=0.7).reset_index(drop=True)\n",
    "#df_train = data.sample(frac=0.7).reset_index(drop=True)\n",
    "#df_train = data.sample(frac=0.7).reset_index(drop=True)"
   ]
  },
  {
   "cell_type": "code",
   "execution_count": null,
   "metadata": {},
   "outputs": [],
   "source": [
    "data.to_csv(\"../../semi_supervised_cls/dataset/hip/testing_fold2.csv\")"
   ]
  },
  {
   "cell_type": "markdown",
   "metadata": {},
   "source": [
    "# get diabetics data training file"
   ]
  },
  {
   "cell_type": "code",
   "execution_count": 141,
   "metadata": {
    "ExecuteTime": {
     "end_time": "2020-06-01T14:15:26.973918Z",
     "start_time": "2020-06-01T14:15:26.933844Z"
    }
   },
   "outputs": [],
   "source": [
    "df = pd.read_csv(\"../dataset/diabetics/trainLabels_cropped.csv\")"
   ]
  },
  {
   "cell_type": "code",
   "execution_count": 142,
   "metadata": {
    "ExecuteTime": {
     "end_time": "2020-06-01T14:15:34.349212Z",
     "start_time": "2020-06-01T14:15:34.333577Z"
    }
   },
   "outputs": [
    {
     "data": {
      "text/html": [
       "<div>\n",
       "<style scoped>\n",
       "    .dataframe tbody tr th:only-of-type {\n",
       "        vertical-align: middle;\n",
       "    }\n",
       "\n",
       "    .dataframe tbody tr th {\n",
       "        vertical-align: top;\n",
       "    }\n",
       "\n",
       "    .dataframe thead th {\n",
       "        text-align: right;\n",
       "    }\n",
       "</style>\n",
       "<table border=\"1\" class=\"dataframe\">\n",
       "  <thead>\n",
       "    <tr style=\"text-align: right;\">\n",
       "      <th></th>\n",
       "      <th>image</th>\n",
       "      <th>level</th>\n",
       "    </tr>\n",
       "  </thead>\n",
       "  <tbody>\n",
       "    <tr>\n",
       "      <th>0</th>\n",
       "      <td>10_left</td>\n",
       "      <td>0</td>\n",
       "    </tr>\n",
       "    <tr>\n",
       "      <th>1</th>\n",
       "      <td>10_right</td>\n",
       "      <td>0</td>\n",
       "    </tr>\n",
       "    <tr>\n",
       "      <th>2</th>\n",
       "      <td>13_left</td>\n",
       "      <td>0</td>\n",
       "    </tr>\n",
       "    <tr>\n",
       "      <th>3</th>\n",
       "      <td>13_right</td>\n",
       "      <td>0</td>\n",
       "    </tr>\n",
       "    <tr>\n",
       "      <th>4</th>\n",
       "      <td>15_left</td>\n",
       "      <td>1</td>\n",
       "    </tr>\n",
       "  </tbody>\n",
       "</table>\n",
       "</div>"
      ],
      "text/plain": [
       "      image  level\n",
       "0   10_left      0\n",
       "1  10_right      0\n",
       "2   13_left      0\n",
       "3  13_right      0\n",
       "4   15_left      1"
      ]
     },
     "execution_count": 142,
     "metadata": {},
     "output_type": "execute_result"
    }
   ],
   "source": [
    "df.head()"
   ]
  },
  {
   "cell_type": "code",
   "execution_count": 143,
   "metadata": {
    "ExecuteTime": {
     "end_time": "2020-06-01T14:16:01.518818Z",
     "start_time": "2020-06-01T14:16:01.498911Z"
    }
   },
   "outputs": [],
   "source": [
    "col = 'level'\n",
    "data = df\n",
    "data[col] = data[col].astype('category')#转换成数据类别类型，pandas用法\n",
    "dummy = pd.get_dummies(data[col])  #get_dummies为pandas里面求哑变量的包\n",
    "#dummy = dummy.add_prefix('{}#'.format(col)) #add_prefix为加上前缀\n",
    "#data.drop(col,axis = 1,inplace = True)\n",
    "data = data.join(dummy) #index即为userid，所以可以用join"
   ]
  },
  {
   "cell_type": "code",
   "execution_count": 144,
   "metadata": {
    "ExecuteTime": {
     "end_time": "2020-06-01T14:16:09.836706Z",
     "start_time": "2020-06-01T14:16:09.817465Z"
    }
   },
   "outputs": [
    {
     "data": {
      "text/html": [
       "<div>\n",
       "<style scoped>\n",
       "    .dataframe tbody tr th:only-of-type {\n",
       "        vertical-align: middle;\n",
       "    }\n",
       "\n",
       "    .dataframe tbody tr th {\n",
       "        vertical-align: top;\n",
       "    }\n",
       "\n",
       "    .dataframe thead th {\n",
       "        text-align: right;\n",
       "    }\n",
       "</style>\n",
       "<table border=\"1\" class=\"dataframe\">\n",
       "  <thead>\n",
       "    <tr style=\"text-align: right;\">\n",
       "      <th></th>\n",
       "      <th>image</th>\n",
       "      <th>level</th>\n",
       "      <th>0</th>\n",
       "      <th>1</th>\n",
       "      <th>2</th>\n",
       "      <th>3</th>\n",
       "      <th>4</th>\n",
       "    </tr>\n",
       "  </thead>\n",
       "  <tbody>\n",
       "    <tr>\n",
       "      <th>0</th>\n",
       "      <td>10_left</td>\n",
       "      <td>0</td>\n",
       "      <td>1</td>\n",
       "      <td>0</td>\n",
       "      <td>0</td>\n",
       "      <td>0</td>\n",
       "      <td>0</td>\n",
       "    </tr>\n",
       "    <tr>\n",
       "      <th>1</th>\n",
       "      <td>10_right</td>\n",
       "      <td>0</td>\n",
       "      <td>1</td>\n",
       "      <td>0</td>\n",
       "      <td>0</td>\n",
       "      <td>0</td>\n",
       "      <td>0</td>\n",
       "    </tr>\n",
       "    <tr>\n",
       "      <th>2</th>\n",
       "      <td>13_left</td>\n",
       "      <td>0</td>\n",
       "      <td>1</td>\n",
       "      <td>0</td>\n",
       "      <td>0</td>\n",
       "      <td>0</td>\n",
       "      <td>0</td>\n",
       "    </tr>\n",
       "    <tr>\n",
       "      <th>3</th>\n",
       "      <td>13_right</td>\n",
       "      <td>0</td>\n",
       "      <td>1</td>\n",
       "      <td>0</td>\n",
       "      <td>0</td>\n",
       "      <td>0</td>\n",
       "      <td>0</td>\n",
       "    </tr>\n",
       "    <tr>\n",
       "      <th>4</th>\n",
       "      <td>15_left</td>\n",
       "      <td>1</td>\n",
       "      <td>0</td>\n",
       "      <td>1</td>\n",
       "      <td>0</td>\n",
       "      <td>0</td>\n",
       "      <td>0</td>\n",
       "    </tr>\n",
       "  </tbody>\n",
       "</table>\n",
       "</div>"
      ],
      "text/plain": [
       "      image level  0  1  2  3  4\n",
       "0   10_left     0  1  0  0  0  0\n",
       "1  10_right     0  1  0  0  0  0\n",
       "2   13_left     0  1  0  0  0  0\n",
       "3  13_right     0  1  0  0  0  0\n",
       "4   15_left     1  0  1  0  0  0"
      ]
     },
     "execution_count": 144,
     "metadata": {},
     "output_type": "execute_result"
    }
   ],
   "source": [
    "data.head()"
   ]
  },
  {
   "cell_type": "code",
   "execution_count": 145,
   "metadata": {
    "ExecuteTime": {
     "end_time": "2020-06-01T14:17:26.771952Z",
     "start_time": "2020-06-01T14:17:26.746184Z"
    }
   },
   "outputs": [],
   "source": [
    "data['image'] = data['image'].apply(lambda x: x+\".jpeg\")"
   ]
  },
  {
   "cell_type": "code",
   "execution_count": 148,
   "metadata": {
    "ExecuteTime": {
     "end_time": "2020-06-01T15:43:06.401971Z",
     "start_time": "2020-06-01T15:43:06.394495Z"
    }
   },
   "outputs": [
    {
     "data": {
      "text/plain": [
       "35108"
      ]
     },
     "execution_count": 148,
     "metadata": {},
     "output_type": "execute_result"
    }
   ],
   "source": [
    "len(data)"
   ]
  },
  {
   "cell_type": "code",
   "execution_count": 147,
   "metadata": {
    "ExecuteTime": {
     "end_time": "2020-06-01T14:18:41.986396Z",
     "start_time": "2020-06-01T14:18:41.974336Z"
    }
   },
   "outputs": [],
   "source": [
    "order = ['image',0,1,2,3,4,'level']\n",
    "data = data[order]"
   ]
  },
  {
   "cell_type": "code",
   "execution_count": 149,
   "metadata": {
    "ExecuteTime": {
     "end_time": "2020-06-01T15:44:14.968896Z",
     "start_time": "2020-06-01T15:44:14.699072Z"
    }
   },
   "outputs": [],
   "source": [
    "df = data.sample(frac=1.0).reset_index(drop=True)\n",
    "df[0:24576].to_csv(\"../dataset/diabetics/training.csv\",index=0)\n",
    "df[24576:28086].to_csv(\"../dataset/diabetics/validation.csv\",index=0)\n",
    "df[28086:].to_csv(\"../dataset/diabetics/testing.csv\",index=0)\n",
    "#df_train = data.sample(frac=0.7).reset_index(drop=True)\n",
    "#df_train = data.sample(frac=0.7).reset_index(drop=True)\n",
    "#df_train = data.sample(frac=0.7).reset_index(drop=True)"
   ]
  },
  {
   "cell_type": "markdown",
   "metadata": {},
   "source": [
    "# test bnm loss"
   ]
  },
  {
   "cell_type": "code",
   "execution_count": 192,
   "metadata": {
    "ExecuteTime": {
     "end_time": "2020-06-02T09:16:34.131571Z",
     "start_time": "2020-06-02T09:16:34.123638Z"
    }
   },
   "outputs": [],
   "source": [
    "A = torch.FloatTensor([[0.6,0.2,0.2],[0.3,0.3,0.4],[1,0,0],[0.4,0.4,0.2]]) +0.0001"
   ]
  },
  {
   "cell_type": "code",
   "execution_count": 193,
   "metadata": {
    "ExecuteTime": {
     "end_time": "2020-06-02T09:16:36.838305Z",
     "start_time": "2020-06-02T09:16:36.833826Z"
    }
   },
   "outputs": [],
   "source": [
    "\n",
    "B = -1.0 * A*torch.log(A)"
   ]
  },
  {
   "cell_type": "code",
   "execution_count": 194,
   "metadata": {
    "ExecuteTime": {
     "end_time": "2020-06-02T09:16:39.124415Z",
     "start_time": "2020-06-02T09:16:39.117027Z"
    }
   },
   "outputs": [
    {
     "data": {
      "text/plain": [
       "tensor([[ 3.0645e-01,  3.2195e-01,  3.2195e-01],\n",
       "        [ 3.6121e-01,  3.6121e-01,  3.6651e-01],\n",
       "        [-1.0002e-04,  9.2103e-04,  9.2103e-04],\n",
       "        [ 3.6651e-01,  3.6651e-01,  3.2195e-01]])"
      ]
     },
     "execution_count": 194,
     "metadata": {},
     "output_type": "execute_result"
    }
   ],
   "source": [
    "B"
   ]
  },
  {
   "cell_type": "code",
   "execution_count": 195,
   "metadata": {
    "ExecuteTime": {
     "end_time": "2020-06-02T09:16:42.177103Z",
     "start_time": "2020-06-02T09:16:42.171615Z"
    }
   },
   "outputs": [],
   "source": [
    "C = B.sum(dim=1)"
   ]
  },
  {
   "cell_type": "code",
   "execution_count": 196,
   "metadata": {
    "ExecuteTime": {
     "end_time": "2020-06-02T09:16:45.185982Z",
     "start_time": "2020-06-02T09:16:45.178476Z"
    }
   },
   "outputs": [
    {
     "data": {
      "text/plain": [
       "tensor([0.9503, 1.0889, 0.0017, 1.0550])"
      ]
     },
     "execution_count": 196,
     "metadata": {},
     "output_type": "execute_result"
    }
   ],
   "source": [
    "C"
   ]
  },
  {
   "cell_type": "code",
   "execution_count": 197,
   "metadata": {
    "ExecuteTime": {
     "end_time": "2020-06-02T09:16:49.615778Z",
     "start_time": "2020-06-02T09:16:49.611305Z"
    }
   },
   "outputs": [],
   "source": [
    "index = C.argsort(descending=True)[:2]"
   ]
  },
  {
   "cell_type": "code",
   "execution_count": 198,
   "metadata": {
    "ExecuteTime": {
     "end_time": "2020-06-02T09:16:52.652484Z",
     "start_time": "2020-06-02T09:16:52.646651Z"
    }
   },
   "outputs": [
    {
     "data": {
      "text/plain": [
       "tensor([1, 3])"
      ]
     },
     "execution_count": 198,
     "metadata": {},
     "output_type": "execute_result"
    }
   ],
   "source": [
    "index"
   ]
  },
  {
   "cell_type": "code",
   "execution_count": 200,
   "metadata": {
    "ExecuteTime": {
     "end_time": "2020-06-02T09:17:15.704759Z",
     "start_time": "2020-06-02T09:17:15.694709Z"
    }
   },
   "outputs": [
    {
     "data": {
      "text/plain": [
       "tensor([[0.3001, 0.3001, 0.4001],\n",
       "        [0.4001, 0.4001, 0.2001]])"
      ]
     },
     "execution_count": 200,
     "metadata": {},
     "output_type": "execute_result"
    }
   ],
   "source": [
    "A[index]"
   ]
  },
  {
   "cell_type": "markdown",
   "metadata": {},
   "source": [
    "# sample from every class independent "
   ]
  },
  {
   "cell_type": "code",
   "execution_count": 23,
   "metadata": {
    "ExecuteTime": {
     "end_time": "2020-06-10T01:20:54.390886Z",
     "start_time": "2020-06-10T01:20:54.342334Z"
    }
   },
   "outputs": [],
   "source": [
    "import pandas as pd \n",
    "df = pd.read_csv('../dataset/hip_4cls/training_sample_single_class.csv')"
   ]
  },
  {
   "cell_type": "code",
   "execution_count": 36,
   "metadata": {
    "ExecuteTime": {
     "end_time": "2020-06-10T01:26:56.952497Z",
     "start_time": "2020-06-10T01:26:56.939167Z"
    }
   },
   "outputs": [],
   "source": [
    "df_0 = df[0:4218]\n",
    "df_1 = df[4218:8266]\n",
    "df_2 = df[8266:15149]\n",
    "df_3 = df[15149:]"
   ]
  },
  {
   "cell_type": "code",
   "execution_count": 42,
   "metadata": {
    "ExecuteTime": {
     "end_time": "2020-06-10T01:32:36.734192Z",
     "start_time": "2020-06-10T01:32:36.714379Z"
    }
   },
   "outputs": [],
   "source": [
    "df_0 = df_0.sample(frac=1.0).reset_index(drop=True)\n",
    "df_1 = df_1.sample(frac=1.0).reset_index(drop=True)\n",
    "df_2 = df_2.sample(frac=1.0).reset_index(drop=True)\n",
    "df_3 = df_3.sample(frac=1.0).reset_index(drop=True)"
   ]
  },
  {
   "cell_type": "code",
   "execution_count": 43,
   "metadata": {
    "ExecuteTime": {
     "end_time": "2020-06-10T01:32:41.448714Z",
     "start_time": "2020-06-10T01:32:41.439958Z"
    }
   },
   "outputs": [],
   "source": [
    "df_new = pd.concat([df_0[0:len(df_0)*0.1*x],df_1])"
   ]
  },
  {
   "cell_type": "code",
   "execution_count": 44,
   "metadata": {
    "ExecuteTime": {
     "end_time": "2020-06-10T01:32:42.014337Z",
     "start_time": "2020-06-10T01:32:42.001121Z"
    }
   },
   "outputs": [
    {
     "data": {
      "text/html": [
       "<div>\n",
       "<style scoped>\n",
       "    .dataframe tbody tr th:only-of-type {\n",
       "        vertical-align: middle;\n",
       "    }\n",
       "\n",
       "    .dataframe tbody tr th {\n",
       "        vertical-align: top;\n",
       "    }\n",
       "\n",
       "    .dataframe thead th {\n",
       "        text-align: right;\n",
       "    }\n",
       "</style>\n",
       "<table border=\"1\" class=\"dataframe\">\n",
       "  <thead>\n",
       "    <tr style=\"text-align: right;\">\n",
       "      <th></th>\n",
       "      <th>image</th>\n",
       "      <th>0</th>\n",
       "      <th>1</th>\n",
       "      <th>2</th>\n",
       "      <th>3</th>\n",
       "      <th>disease</th>\n",
       "    </tr>\n",
       "  </thead>\n",
       "  <tbody>\n",
       "    <tr>\n",
       "      <th>0</th>\n",
       "      <td>1.3.46.670589.30.1.6.1.963335011642.1488586914...</td>\n",
       "      <td>1</td>\n",
       "      <td>0</td>\n",
       "      <td>0</td>\n",
       "      <td>0</td>\n",
       "      <td>0</td>\n",
       "    </tr>\n",
       "    <tr>\n",
       "      <th>1</th>\n",
       "      <td>1.3.46.670589.30.1.6.1.963334011478.1481069849...</td>\n",
       "      <td>1</td>\n",
       "      <td>0</td>\n",
       "      <td>0</td>\n",
       "      <td>0</td>\n",
       "      <td>0</td>\n",
       "    </tr>\n",
       "    <tr>\n",
       "      <th>2</th>\n",
       "      <td>1.3.46.670589.30.1.6.1.966169198450.1488811621...</td>\n",
       "      <td>1</td>\n",
       "      <td>0</td>\n",
       "      <td>0</td>\n",
       "      <td>0</td>\n",
       "      <td>0</td>\n",
       "    </tr>\n",
       "    <tr>\n",
       "      <th>3</th>\n",
       "      <td>1.3.12.2.1107.5.3.49.50305.2.20180126125720079...</td>\n",
       "      <td>1</td>\n",
       "      <td>0</td>\n",
       "      <td>0</td>\n",
       "      <td>0</td>\n",
       "      <td>0</td>\n",
       "    </tr>\n",
       "    <tr>\n",
       "      <th>4</th>\n",
       "      <td>1.3.46.670589.30.1.6.1.963334011478.1511227079...</td>\n",
       "      <td>1</td>\n",
       "      <td>0</td>\n",
       "      <td>0</td>\n",
       "      <td>0</td>\n",
       "      <td>0</td>\n",
       "    </tr>\n",
       "  </tbody>\n",
       "</table>\n",
       "</div>"
      ],
      "text/plain": [
       "                                               image  0  1  2  3  disease\n",
       "0  1.3.46.670589.30.1.6.1.963335011642.1488586914...  1  0  0  0        0\n",
       "1  1.3.46.670589.30.1.6.1.963334011478.1481069849...  1  0  0  0        0\n",
       "2  1.3.46.670589.30.1.6.1.966169198450.1488811621...  1  0  0  0        0\n",
       "3  1.3.12.2.1107.5.3.49.50305.2.20180126125720079...  1  0  0  0        0\n",
       "4  1.3.46.670589.30.1.6.1.963334011478.1511227079...  1  0  0  0        0"
      ]
     },
     "execution_count": 44,
     "metadata": {},
     "output_type": "execute_result"
    }
   ],
   "source": [
    "df_new.head()"
   ]
  },
  {
   "cell_type": "code",
   "execution_count": 56,
   "metadata": {
    "ExecuteTime": {
     "end_time": "2020-06-10T02:11:44.053961Z",
     "start_time": "2020-06-10T02:11:43.815414Z"
    }
   },
   "outputs": [],
   "source": [
    "df_new = pd.DataFrame(columns=['image','0','1','2','3','disease'])\n",
    "for i in range(0,50):\n",
    "    left = int()\n",
    "    r = 0.02\n",
    "    df_cat = pd.concat([df_0[int(len(df_0)*r*i):int(len(df_0)*r*(i+1))],\n",
    "                    df_1[int(len(df_1)*r*i):int(len(df_1)*r*(i+1))],\n",
    "                   df_2[int(len(df_2)*r*i):int(len(df_2)*r*(i+1))],\n",
    "                   df_3[int(len(df_3)*r*i):int(len(df_3)*r*(i+1))]])\n",
    "    df_cat = df_cat.sample(frac=1.0).reset_index(drop=True)\n",
    "    df_new = pd.concat([df_new,df_cat])\n",
    "    #df_new = df_new.sample(frac=1.0).reset_index(drop=True)"
   ]
  },
  {
   "cell_type": "code",
   "execution_count": 60,
   "metadata": {
    "ExecuteTime": {
     "end_time": "2020-06-10T02:13:14.946854Z",
     "start_time": "2020-06-10T02:13:14.925108Z"
    }
   },
   "outputs": [
    {
     "data": {
      "text/html": [
       "<div>\n",
       "<style scoped>\n",
       "    .dataframe tbody tr th:only-of-type {\n",
       "        vertical-align: middle;\n",
       "    }\n",
       "\n",
       "    .dataframe tbody tr th {\n",
       "        vertical-align: top;\n",
       "    }\n",
       "\n",
       "    .dataframe thead th {\n",
       "        text-align: right;\n",
       "    }\n",
       "</style>\n",
       "<table border=\"1\" class=\"dataframe\">\n",
       "  <thead>\n",
       "    <tr style=\"text-align: right;\">\n",
       "      <th></th>\n",
       "      <th>image</th>\n",
       "      <th>0</th>\n",
       "      <th>1</th>\n",
       "      <th>2</th>\n",
       "      <th>3</th>\n",
       "      <th>disease</th>\n",
       "    </tr>\n",
       "  </thead>\n",
       "  <tbody>\n",
       "    <tr>\n",
       "      <th>0</th>\n",
       "      <td>1.3.46.670589.30.1.6.1.963334086946.1449469789...</td>\n",
       "      <td>0</td>\n",
       "      <td>0</td>\n",
       "      <td>1</td>\n",
       "      <td>0</td>\n",
       "      <td>2</td>\n",
       "    </tr>\n",
       "    <tr>\n",
       "      <th>1</th>\n",
       "      <td>1.3.46.670589.30.1.6.1.963334086946.1395119673...</td>\n",
       "      <td>0</td>\n",
       "      <td>0</td>\n",
       "      <td>0</td>\n",
       "      <td>1</td>\n",
       "      <td>3</td>\n",
       "    </tr>\n",
       "    <tr>\n",
       "      <th>2</th>\n",
       "      <td>1.3.46.670589.26.702267.22.20140304.130222.1_5...</td>\n",
       "      <td>0</td>\n",
       "      <td>1</td>\n",
       "      <td>0</td>\n",
       "      <td>0</td>\n",
       "      <td>1</td>\n",
       "    </tr>\n",
       "    <tr>\n",
       "      <th>3</th>\n",
       "      <td>1.3.46.670589.26.702267.22.20160414.152819.1_5...</td>\n",
       "      <td>1</td>\n",
       "      <td>0</td>\n",
       "      <td>0</td>\n",
       "      <td>0</td>\n",
       "      <td>0</td>\n",
       "    </tr>\n",
       "    <tr>\n",
       "      <th>4</th>\n",
       "      <td>1.3.51.5146.1431.20130910.1080406_512_2-1_R_no...</td>\n",
       "      <td>1</td>\n",
       "      <td>0</td>\n",
       "      <td>0</td>\n",
       "      <td>0</td>\n",
       "      <td>0</td>\n",
       "    </tr>\n",
       "    <tr>\n",
       "      <th>...</th>\n",
       "      <td>...</td>\n",
       "      <td>...</td>\n",
       "      <td>...</td>\n",
       "      <td>...</td>\n",
       "      <td>...</td>\n",
       "      <td>...</td>\n",
       "    </tr>\n",
       "    <tr>\n",
       "      <th>18257</th>\n",
       "      <td>1.3.46.670589.30.1.3.1.1625143089.129852627792...</td>\n",
       "      <td>0</td>\n",
       "      <td>1</td>\n",
       "      <td>0</td>\n",
       "      <td>0</td>\n",
       "      <td>1</td>\n",
       "    </tr>\n",
       "    <tr>\n",
       "      <th>18258</th>\n",
       "      <td>1.3.46.670589.30.1.6.1.963334086946.1415855082...</td>\n",
       "      <td>1</td>\n",
       "      <td>0</td>\n",
       "      <td>0</td>\n",
       "      <td>0</td>\n",
       "      <td>0</td>\n",
       "    </tr>\n",
       "    <tr>\n",
       "      <th>18259</th>\n",
       "      <td>1.3.46.670589.30.1.6.1.963334011478.1431148400...</td>\n",
       "      <td>0</td>\n",
       "      <td>0</td>\n",
       "      <td>1</td>\n",
       "      <td>0</td>\n",
       "      <td>2</td>\n",
       "    </tr>\n",
       "    <tr>\n",
       "      <th>18260</th>\n",
       "      <td>1.3.46.670589.26.702267.22.20100914.110229.1_5...</td>\n",
       "      <td>0</td>\n",
       "      <td>0</td>\n",
       "      <td>0</td>\n",
       "      <td>1</td>\n",
       "      <td>3</td>\n",
       "    </tr>\n",
       "    <tr>\n",
       "      <th>18261</th>\n",
       "      <td>1.3.46.670589.30.1.6.1.963334011478.1476165583...</td>\n",
       "      <td>0</td>\n",
       "      <td>0</td>\n",
       "      <td>0</td>\n",
       "      <td>1</td>\n",
       "      <td>3</td>\n",
       "    </tr>\n",
       "  </tbody>\n",
       "</table>\n",
       "<p>18262 rows × 6 columns</p>\n",
       "</div>"
      ],
      "text/plain": [
       "                                                   image  0  1  2  3 disease\n",
       "0      1.3.46.670589.30.1.6.1.963334086946.1449469789...  0  0  1  0       2\n",
       "1      1.3.46.670589.30.1.6.1.963334086946.1395119673...  0  0  0  1       3\n",
       "2      1.3.46.670589.26.702267.22.20140304.130222.1_5...  0  1  0  0       1\n",
       "3      1.3.46.670589.26.702267.22.20160414.152819.1_5...  1  0  0  0       0\n",
       "4      1.3.51.5146.1431.20130910.1080406_512_2-1_R_no...  1  0  0  0       0\n",
       "...                                                  ... .. .. .. ..     ...\n",
       "18257  1.3.46.670589.30.1.3.1.1625143089.129852627792...  0  1  0  0       1\n",
       "18258  1.3.46.670589.30.1.6.1.963334086946.1415855082...  1  0  0  0       0\n",
       "18259  1.3.46.670589.30.1.6.1.963334011478.1431148400...  0  0  1  0       2\n",
       "18260  1.3.46.670589.26.702267.22.20100914.110229.1_5...  0  0  0  1       3\n",
       "18261  1.3.46.670589.30.1.6.1.963334011478.1476165583...  0  0  0  1       3\n",
       "\n",
       "[18262 rows x 6 columns]"
      ]
     },
     "execution_count": 60,
     "metadata": {},
     "output_type": "execute_result"
    }
   ],
   "source": [
    "df_new.reset_index(drop=True)"
   ]
  },
  {
   "cell_type": "code",
   "execution_count": 61,
   "metadata": {
    "ExecuteTime": {
     "end_time": "2020-06-10T02:16:34.370903Z",
     "start_time": "2020-06-10T02:16:34.276955Z"
    }
   },
   "outputs": [],
   "source": [
    "df_new.to_csv(\"../dataset/hip_4cls/training_sample_single_class.csv\",index=0)"
   ]
  },
  {
   "cell_type": "markdown",
   "metadata": {},
   "source": [
    "# Multi-scale densenet"
   ]
  },
  {
   "cell_type": "code",
   "execution_count": 175,
   "metadata": {
    "ExecuteTime": {
     "end_time": "2020-06-11T13:17:07.578346Z",
     "start_time": "2020-06-11T13:17:07.554199Z"
    }
   },
   "outputs": [],
   "source": [
    "import re\n",
    "import torch\n",
    "import torch.nn as nn\n",
    "import torch.nn.functional as F\n",
    "from networks import densenet\n",
    "from collections import OrderedDict\n",
    "import torch.utils.model_zoo as model_zoo\n",
    "\n",
    "\n",
    "class _DenseLayer(nn.Sequential):\n",
    "    def __init__(self, num_input_features, growth_rate, bn_size, drop_rate):\n",
    "        super(_DenseLayer, self).__init__()\n",
    "        self.add_module('norm1', nn.BatchNorm2d(num_input_features)),\n",
    "        self.add_module('relu1', nn.ReLU(inplace=True)),\n",
    "        self.add_module('conv1', nn.Conv2d(num_input_features, bn_size *\n",
    "                        growth_rate, kernel_size=1, stride=1, bias=False)),\n",
    "        self.add_module('norm2', nn.BatchNorm2d(bn_size * growth_rate)),\n",
    "        self.add_module('relu2', nn.ReLU(inplace=True)),\n",
    "        self.add_module('conv2', nn.Conv2d(bn_size * growth_rate, growth_rate,\n",
    "                        kernel_size=3, stride=1, padding=1, bias=False)),\n",
    "        self.drop_rate = drop_rate\n",
    "        self.drop_layer = nn.Dropout(p=drop_rate)\n",
    "    def forward(self, x):\n",
    "        new_features = super(_DenseLayer, self).forward(x)\n",
    "        # if self.drop_rate > 0:\n",
    "        #     print (self.drop_rate)\n",
    "        #     new_features = self.drop_layer(new_features)\n",
    "        return torch.cat([x, new_features], 1)\n",
    "\n",
    "\n",
    "class _DenseBlock(nn.Sequential):\n",
    "    def __init__(self, num_layers, num_input_features, bn_size, growth_rate, drop_rate):\n",
    "        super(_DenseBlock, self).__init__()\n",
    "        for i in range(num_layers):\n",
    "            layer = _DenseLayer(num_input_features + i * growth_rate, growth_rate, bn_size, drop_rate)\n",
    "            self.add_module('denselayer%d' % (i + 1), layer)\n",
    "\n",
    "\n",
    "class _Transition(nn.Sequential):\n",
    "    def __init__(self, num_input_features, num_output_features):\n",
    "        super(_Transition, self).__init__()\n",
    "        self.add_module('norm', nn.BatchNorm2d(num_input_features))\n",
    "        self.add_module('relu', nn.ReLU(inplace=True))\n",
    "        self.add_module('conv', nn.Conv2d(num_input_features, num_output_features,\n",
    "                                          kernel_size=1, stride=1, bias=False))\n",
    "        self.add_module('pool', nn.AvgPool2d(kernel_size=2, stride=2))\n"
   ]
  },
  {
   "cell_type": "code",
   "execution_count": 248,
   "metadata": {
    "ExecuteTime": {
     "end_time": "2020-06-12T01:26:05.214653Z",
     "start_time": "2020-06-12T01:26:05.180219Z"
    }
   },
   "outputs": [],
   "source": [
    "class DenseNetMultiScale(nn.Module):\n",
    "    r\"\"\"Densenet-BC model class, based on\n",
    "    `\"Densely Connected Convolutional Networks\" <https://arxiv.org/pdf/1608.06993.pdf>`_\n",
    "    Args:\n",
    "        growth_rate (int) - how many filters to add each layer (`k` in paper)\n",
    "        block_config (list of 4 ints) - how many layers in each pooling block\n",
    "        num_init_features (int) - the number of filters to learn in the first convolution layer\n",
    "        bn_size (int) - multiplicative factor for number of bottle neck layers\n",
    "          (i.e. bn_size * k features in the bottleneck layer)\n",
    "        drop_rate (float) - dropout rate after each dense layer\n",
    "        num_classes (int) - number of classification classes\n",
    "    \"\"\"\n",
    "\n",
    "    def __init__(self, growth_rate=32, block_config=(6, 12, 24, 16),\n",
    "                 num_init_features=64, bn_size=4, drop_rate=0, num_classes=1000):\n",
    "\n",
    "        super(DenseNetMultiScale, self).__init__()\n",
    "\n",
    "        # First convolution\n",
    "        self.features = nn.Sequential(OrderedDict([\n",
    "            ('conv0', nn.Conv2d(3, num_init_features, kernel_size=7, stride=2, padding=3, bias=False)),\n",
    "            ('norm0', nn.BatchNorm2d(num_init_features)),\n",
    "            ('relu0', nn.ReLU(inplace=True)),\n",
    "            ('pool0', nn.MaxPool2d(kernel_size=3, stride=2, padding=1)),\n",
    "        ]))\n",
    "\n",
    "        # Each denseblock\n",
    "        num_features = num_init_features\n",
    "        self.denseblock_list = []\n",
    "        for i, num_layers in enumerate(block_config):\n",
    "            block = _DenseBlock(num_layers=num_layers, num_input_features=num_features,\n",
    "                                bn_size=bn_size, growth_rate=growth_rate, drop_rate=drop_rate)\n",
    "            self.features.add_module('denseblock%d' % (i + 1), block)\n",
    "            num_features = num_features + num_layers * growth_rate\n",
    "            if i != len(block_config) - 1:\n",
    "                trans = _Transition(num_input_features=num_features, num_output_features=num_features // 2)\n",
    "                self.features.add_module('transition%d' % (i + 1), trans)\n",
    "                num_features = num_features // 2\n",
    "            if i != len(block_config) - 1:\n",
    "                self.denseblock_list.append(nn.Sequential(block,trans))\n",
    "            else:\n",
    "                self.denseblock_list.append(nn.Sequential(block))\n",
    "#         self.denseblock1 = self.denseblock_list[0]\n",
    "#         self.denseblock2 = self.denseblock_list[1]\n",
    "#         self.denseblock3 = self.denseblock_list[2]\n",
    "#         self.denseblock4 = self.denseblock_list[3]\n",
    "        # Final batch norm\n",
    "        self.features.add_module('norm5', nn.BatchNorm2d(num_features))\n",
    "        # Linear layer\n",
    "        self.classifier = nn.Linear(num_features, num_classes)\n",
    "\n",
    "        # Official init from torch repo.\n",
    "        for m in self.modules():\n",
    "            if isinstance(m, nn.Conv2d):\n",
    "                nn.init.kaiming_normal_(m.weight)\n",
    "            elif isinstance(m, nn.BatchNorm2d):\n",
    "                nn.init.constant_(m.weight, 1)\n",
    "                nn.init.constant_(m.bias, 0)\n",
    "            elif isinstance(m, nn.Linear):\n",
    "                nn.init.constant_(m.bias, 0)\n",
    "\n",
    "    def forward(self, x):\n",
    "        x = self.features.conv0(x)\n",
    "        x = self.features.norm0(x)\n",
    "        x = self.features.relu0(x)\n",
    "        x = self.features.pool0(x)\n",
    "        x = self.features.denseblock1(x)\n",
    "        fea1 = self.features.transition1(x)\n",
    "        fea2 = self.features.denseblock2(fea1)\n",
    "        fea2 = self.features.transition2(fea2)\n",
    "        fea3 = self.features.denseblock3(fea2)\n",
    "        fea3 = self.features.transition3(fea3)\n",
    "        features = self.features.denseblock4(fea3)\n",
    "        print(\"fea1 shape:\",fea1.shape)\n",
    "        print(\"fea2 shape:\",fea2.shape)\n",
    "        print(\"fea3 shape:\",fea3.shape)\n",
    "        out = F.relu(features, inplace=True)\n",
    "        fea_out2 = F.adaptive_avg_pool2d(fea2, (1, 1)).view(fea2.size(0), -1)\n",
    "        fea_out3 = F.adaptive_avg_pool2d(fea3, (1, 1)).view(fea3.size(0), -1)\n",
    "        fea_out = F.adaptive_avg_pool2d(out, (1, 1)).view(features.size(0), -1)\n",
    "        print(fea_out.size())\n",
    "        out = self.classifier(fea_out)\n",
    "        return [fea_out2,fea_out3,fea_out],out"
   ]
  },
  {
   "cell_type": "code",
   "execution_count": 321,
   "metadata": {
    "ExecuteTime": {
     "end_time": "2020-06-13T07:25:46.133291Z",
     "start_time": "2020-06-13T07:25:46.102214Z"
    }
   },
   "outputs": [],
   "source": [
    "class DenseNet121MultiScale(nn.Module):\n",
    "    \"\"\"Model modified.\n",
    "    The architecture of our model is the same as standard DenseNet121\n",
    "    except the classifier layer which has an additional sigmoid function.\n",
    "    \"\"\"\n",
    "    def __init__(self, out_size,drop_rate=0):\n",
    "        super(DenseNet121MultiScale, self).__init__()\n",
    "        self.densenet121 = densenet.densenet121(pretrained=True, drop_rate=drop_rate)\n",
    "        num_ftrs = self.densenet121.classifier.in_features\n",
    "        self.densenet121.classifier = nn.Sequential(\n",
    "            nn.Linear(num_ftrs, out_size),\n",
    "            #nn.Sigmoid()\n",
    "        )\n",
    "\n",
    "        # Official init from torch repo.\n",
    "        for m in self.densenet121.modules():\n",
    "            if isinstance(m, nn.Linear):\n",
    "                nn.init.constant_(m.bias, 0)\n",
    "\n",
    "        self.drop_rate = drop_rate\n",
    "        self.drop_layer = nn.Dropout(p=drop_rate)\n",
    "\n",
    "    def forward(self, x):\n",
    "        x = self.densenet121.features.conv0(x)\n",
    "        x = self.densenet121.features.norm0(x)\n",
    "        x = self.densenet121.features.relu0(x)\n",
    "        x = self.densenet121.features.pool0(x)\n",
    "        x = self.densenet121.features.denseblock1(x)\n",
    "        fea1 = self.densenet121.features.transition1(x)\n",
    "        fea2 = self.densenet121.features.denseblock2(fea1)\n",
    "        fea2 = self.densenet121.features.transition2(fea2)\n",
    "        fea3 = self.densenet121.features.denseblock3(fea2)\n",
    "        fea3 = self.densenet121.features.transition3(fea3)\n",
    "        print(\"fea1 shape:\",fea1.shape)\n",
    "        print(\"fea2 shape:\",fea2.shape)\n",
    "        print(\"fea3 shape:\",fea3.shape)\n",
    "        features = self.densenet121.features.denseblock4(fea3)\n",
    "        features = self.densenet121.features.norm5(features)\n",
    "        out = F.relu(features, inplace=True) \n",
    "        fea_out2 = F.adaptive_avg_pool2d(fea2, (1, 1)).view(fea2.size(0), -1)\n",
    "        fea_out3 = F.adaptive_avg_pool2d(fea3, (1, 1)).view(fea3.size(0), -1)\n",
    "        out = F.adaptive_avg_pool2d(out, (1, 1)).view(features.size(0), -1)\n",
    "        if self.drop_rate > 0:\n",
    "            out = self.drop_layer(out)\n",
    "        self.activations = out\n",
    "        out = self.densenet121.classifier(out)\n",
    "            \n",
    "        return features,[fea_out2,fea_out3,self.activations], out"
   ]
  },
  {
   "cell_type": "code",
   "execution_count": 322,
   "metadata": {
    "ExecuteTime": {
     "end_time": "2020-06-13T07:25:49.797975Z",
     "start_time": "2020-06-13T07:25:49.783782Z"
    }
   },
   "outputs": [],
   "source": [
    "class DenseNet121(nn.Module):\n",
    "    \"\"\"Model modified.\n",
    "    The architecture of our model is the same as standard DenseNet121\n",
    "    except the classifier layer which has an additional sigmoid function.\n",
    "    \"\"\"\n",
    "    def __init__(self, out_size, mode, drop_rate=0):\n",
    "        super(DenseNet121, self).__init__()\n",
    "        assert mode in ('U-Ones', 'U-Zeros', 'U-MultiClass')\n",
    "        self.densenet121 = densenet.densenet121(pretrained=True, drop_rate=drop_rate)\n",
    "        num_ftrs = self.densenet121.classifier.in_features\n",
    "        if mode in ('U-Ones', 'U-Zeros'):\n",
    "            self.densenet121.classifier = nn.Sequential(\n",
    "                nn.Linear(num_ftrs, out_size),\n",
    "                #nn.Sigmoid()\n",
    "            )\n",
    "        elif mode in ('U-MultiClass', ):\n",
    "            self.densenet121.classifier = None\n",
    "            self.densenet121.Linear_0 = nn.Linear(num_ftrs, out_size)\n",
    "            self.densenet121.Linear_1 = nn.Linear(num_ftrs, out_size)\n",
    "            self.densenet121.Linear_u = nn.Linear(num_ftrs, out_size)\n",
    "            \n",
    "        self.mode = mode\n",
    "        \n",
    "        # Official init from torch repo.\n",
    "        for m in self.densenet121.modules():\n",
    "            if isinstance(m, nn.Linear):\n",
    "                nn.init.constant_(m.bias, 0)\n",
    "\n",
    "        self.drop_rate = drop_rate\n",
    "        self.drop_layer = nn.Dropout(p=drop_rate)\n",
    "\n",
    "    def forward(self, x):\n",
    "        ori = x\n",
    "        features = self.densenet121.features(x)\n",
    "        out = F.relu(features, inplace=True)\n",
    "        \n",
    "        \n",
    "        out = F.adaptive_avg_pool2d(out, (1, 1)).view(features.size(0), -1)\n",
    "\n",
    "        if self.drop_rate > 0:\n",
    "            out = self.drop_layer(out)\n",
    "        self.activations = out\n",
    "        out = self.densenet121.classifier(out)\n",
    "            \n",
    "        return features,self.activations, out"
   ]
  },
  {
   "cell_type": "code",
   "execution_count": 323,
   "metadata": {
    "ExecuteTime": {
     "end_time": "2020-06-13T07:25:53.833231Z",
     "start_time": "2020-06-13T07:25:53.104586Z"
    }
   },
   "outputs": [],
   "source": [
    "#model = DenseNetMultiScale(num_init_features=64, growth_rate=32, block_config=(6, 12, 24, 16))\n",
    "model1 = DenseNet121MultiScale(out_size=4, drop_rate=0)\n",
    "model2 = DenseNet121(out_size=4, mode='U-Ones', drop_rate=0)"
   ]
  },
  {
   "cell_type": "code",
   "execution_count": 324,
   "metadata": {
    "ExecuteTime": {
     "end_time": "2020-06-13T07:26:10.530904Z",
     "start_time": "2020-06-13T07:26:09.407001Z"
    }
   },
   "outputs": [
    {
     "name": "stdout",
     "output_type": "stream",
     "text": [
      "fea1 shape: torch.Size([3, 128, 32, 32])\n",
      "fea2 shape: torch.Size([3, 256, 16, 16])\n",
      "fea3 shape: torch.Size([3, 512, 8, 8])\n"
     ]
    }
   ],
   "source": [
    "image = torch.rand(3,3,256,256)\n",
    "ori1,fea1,out1 = model1(image)\n",
    "ori2,fea2,out2 = model2(image)"
   ]
  },
  {
   "cell_type": "code",
   "execution_count": 329,
   "metadata": {
    "ExecuteTime": {
     "end_time": "2020-06-14T08:11:49.869620Z",
     "start_time": "2020-06-14T08:11:49.856437Z"
    }
   },
   "outputs": [
    {
     "data": {
      "text/plain": [
       "torch.Size([3, 1024])"
      ]
     },
     "execution_count": 329,
     "metadata": {},
     "output_type": "execute_result"
    }
   ],
   "source": [
    "fea1[2].shape"
   ]
  },
  {
   "cell_type": "code",
   "execution_count": 320,
   "metadata": {
    "ExecuteTime": {
     "end_time": "2020-06-12T06:15:03.508866Z",
     "start_time": "2020-06-12T06:15:03.482002Z"
    }
   },
   "outputs": [
    {
     "data": {
      "text/plain": [
       "tensor([[[[0.0000e+00, 3.6176e-04, 0.0000e+00,  ..., 6.8737e-04,\n",
       "           0.0000e+00, 0.0000e+00],\n",
       "          [0.0000e+00, 7.6834e-05, 0.0000e+00,  ..., 1.1035e-03,\n",
       "           0.0000e+00, 1.0603e-03],\n",
       "          [0.0000e+00, 0.0000e+00, 4.3915e-05,  ..., 0.0000e+00,\n",
       "           8.3502e-04, 8.8434e-04],\n",
       "          ...,\n",
       "          [0.0000e+00, 0.0000e+00, 5.8408e-05,  ..., 0.0000e+00,\n",
       "           0.0000e+00, 0.0000e+00],\n",
       "          [6.8627e-04, 5.5633e-04, 0.0000e+00,  ..., 0.0000e+00,\n",
       "           0.0000e+00, 1.0862e-03],\n",
       "          [7.8531e-04, 2.2155e-04, 0.0000e+00,  ..., 0.0000e+00,\n",
       "           1.2659e-03, 0.0000e+00]],\n",
       "\n",
       "         [[0.0000e+00, 4.4282e-04, 0.0000e+00,  ..., 2.8696e-03,\n",
       "           4.1652e-03, 3.4880e-02],\n",
       "          [2.2071e-02, 2.3597e-03, 0.0000e+00,  ..., 0.0000e+00,\n",
       "           0.0000e+00, 1.1110e-03],\n",
       "          [6.9163e-03, 0.0000e+00, 0.0000e+00,  ..., 0.0000e+00,\n",
       "           0.0000e+00, 8.1333e-03],\n",
       "          ...,\n",
       "          [2.0174e-02, 0.0000e+00, 0.0000e+00,  ..., 1.4891e-02,\n",
       "           1.4353e-02, 2.0111e-03],\n",
       "          [7.6515e-03, 9.5776e-04, 0.0000e+00,  ..., 1.7489e-02,\n",
       "           4.5959e-03, 4.2549e-03],\n",
       "          [2.8762e-03, 2.3909e-03, 0.0000e+00,  ..., 0.0000e+00,\n",
       "           0.0000e+00, 8.1627e-03]],\n",
       "\n",
       "         [[4.8538e-03, 4.7054e-04, 0.0000e+00,  ..., 1.6637e-03,\n",
       "           0.0000e+00, 1.8156e-03],\n",
       "          [1.0145e-02, 0.0000e+00, 0.0000e+00,  ..., 0.0000e+00,\n",
       "           6.0778e-03, 5.8406e-03],\n",
       "          [4.2549e-03, 7.1749e-03, 0.0000e+00,  ..., 1.3491e-03,\n",
       "           0.0000e+00, 7.0620e-04],\n",
       "          ...,\n",
       "          [1.1022e-03, 2.3313e-03, 8.9679e-04,  ..., 3.1872e-03,\n",
       "           4.5328e-03, 5.7337e-03],\n",
       "          [1.3771e-02, 1.4003e-02, 5.8309e-03,  ..., 2.9864e-03,\n",
       "           1.7674e-03, 6.4221e-03],\n",
       "          [0.0000e+00, 1.0996e-03, 3.0652e-03,  ..., 0.0000e+00,\n",
       "           1.4199e-03, 0.0000e+00]],\n",
       "\n",
       "         ...,\n",
       "\n",
       "         [[1.4934e+00, 6.4796e-01, 2.7526e-01,  ..., 0.0000e+00,\n",
       "           0.0000e+00, 0.0000e+00],\n",
       "          [3.1056e-01, 0.0000e+00, 0.0000e+00,  ..., 0.0000e+00,\n",
       "           0.0000e+00, 1.2245e-01],\n",
       "          [1.7478e-01, 0.0000e+00, 0.0000e+00,  ..., 0.0000e+00,\n",
       "           0.0000e+00, 0.0000e+00],\n",
       "          ...,\n",
       "          [7.8884e-01, 7.5595e-01, 1.4125e+00,  ..., 0.0000e+00,\n",
       "           8.4116e-01, 0.0000e+00],\n",
       "          [0.0000e+00, 8.4731e-01, 1.8849e+00,  ..., 0.0000e+00,\n",
       "           1.3874e+00, 6.8205e-01],\n",
       "          [0.0000e+00, 1.1502e+00, 2.4617e+00,  ..., 0.0000e+00,\n",
       "           1.0449e+00, 1.4201e+00]],\n",
       "\n",
       "         [[3.7634e+00, 3.9606e+00, 1.1992e+00,  ..., 0.0000e+00,\n",
       "           0.0000e+00, 0.0000e+00],\n",
       "          [4.3294e+00, 7.0239e+00, 3.7248e+00,  ..., 0.0000e+00,\n",
       "           0.0000e+00, 0.0000e+00],\n",
       "          [1.1135e+00, 2.5950e+00, 9.1399e-01,  ..., 0.0000e+00,\n",
       "           0.0000e+00, 0.0000e+00],\n",
       "          ...,\n",
       "          [0.0000e+00, 0.0000e+00, 1.8097e+00,  ..., 0.0000e+00,\n",
       "           0.0000e+00, 0.0000e+00],\n",
       "          [0.0000e+00, 0.0000e+00, 2.8777e+00,  ..., 0.0000e+00,\n",
       "           0.0000e+00, 0.0000e+00],\n",
       "          [0.0000e+00, 0.0000e+00, 0.0000e+00,  ..., 0.0000e+00,\n",
       "           0.0000e+00, 3.7510e-01]],\n",
       "\n",
       "         [[1.0306e-01, 1.0768e+00, 1.2345e+00,  ..., 9.9318e-01,\n",
       "           2.4517e+00, 1.9019e+00],\n",
       "          [1.5355e+00, 2.2078e+00, 1.1181e+00,  ..., 0.0000e+00,\n",
       "           1.9094e+00, 1.0904e+00],\n",
       "          [1.7397e+00, 1.7824e+00, 7.0929e-01,  ..., 0.0000e+00,\n",
       "           0.0000e+00, 0.0000e+00],\n",
       "          ...,\n",
       "          [6.1533e+00, 5.5811e+00, 0.0000e+00,  ..., 0.0000e+00,\n",
       "           0.0000e+00, 7.5431e-01],\n",
       "          [6.1858e+00, 6.9825e+00, 1.4787e-01,  ..., 0.0000e+00,\n",
       "           0.0000e+00, 0.0000e+00],\n",
       "          [5.8522e+00, 5.8288e+00, 5.9652e-01,  ..., 0.0000e+00,\n",
       "           0.0000e+00, 0.0000e+00]]],\n",
       "\n",
       "\n",
       "        [[[0.0000e+00, 1.4148e-03, 1.2722e-03,  ..., 0.0000e+00,\n",
       "           0.0000e+00, 2.1287e-03],\n",
       "          [0.0000e+00, 7.5271e-04, 5.3129e-04,  ..., 0.0000e+00,\n",
       "           6.2333e-04, 1.2294e-03],\n",
       "          [0.0000e+00, 0.0000e+00, 6.9007e-04,  ..., 3.3374e-04,\n",
       "           4.1390e-04, 5.9292e-04],\n",
       "          ...,\n",
       "          [0.0000e+00, 0.0000e+00, 3.0616e-04,  ..., 0.0000e+00,\n",
       "           3.7439e-04, 9.3784e-04],\n",
       "          [0.0000e+00, 0.0000e+00, 0.0000e+00,  ..., 0.0000e+00,\n",
       "           6.0647e-04, 1.1445e-03],\n",
       "          [1.2250e-04, 0.0000e+00, 0.0000e+00,  ..., 6.5097e-05,\n",
       "           5.9806e-04, 1.4840e-04]],\n",
       "\n",
       "         [[0.0000e+00, 0.0000e+00, 6.7448e-03,  ..., 2.5248e-02,\n",
       "           6.1528e-03, 2.7387e-03],\n",
       "          [0.0000e+00, 6.2360e-03, 6.6174e-03,  ..., 1.1600e-03,\n",
       "           6.2297e-03, 8.7185e-03],\n",
       "          [0.0000e+00, 4.9737e-03, 4.1285e-03,  ..., 0.0000e+00,\n",
       "           0.0000e+00, 1.7871e-05],\n",
       "          ...,\n",
       "          [1.2977e-02, 0.0000e+00, 0.0000e+00,  ..., 0.0000e+00,\n",
       "           0.0000e+00, 8.2002e-03],\n",
       "          [1.1077e-02, 0.0000e+00, 1.4933e-03,  ..., 8.5144e-03,\n",
       "           0.0000e+00, 1.2680e-02],\n",
       "          [1.0772e-03, 6.2049e-03, 0.0000e+00,  ..., 0.0000e+00,\n",
       "           0.0000e+00, 1.3420e-02]],\n",
       "\n",
       "         [[0.0000e+00, 0.0000e+00, 0.0000e+00,  ..., 5.9472e-03,\n",
       "           6.7706e-04, 0.0000e+00],\n",
       "          [0.0000e+00, 3.4276e-03, 0.0000e+00,  ..., 4.5437e-03,\n",
       "           2.3480e-03, 0.0000e+00],\n",
       "          [2.8244e-03, 0.0000e+00, 0.0000e+00,  ..., 0.0000e+00,\n",
       "           6.3618e-03, 8.7481e-03],\n",
       "          ...,\n",
       "          [2.4139e-03, 5.0623e-04, 0.0000e+00,  ..., 1.4854e-02,\n",
       "           3.9377e-03, 8.8057e-03],\n",
       "          [1.2083e-02, 0.0000e+00, 2.5956e-03,  ..., 6.7342e-03,\n",
       "           1.3689e-02, 1.0960e-02],\n",
       "          [0.0000e+00, 3.8473e-03, 2.7986e-03,  ..., 0.0000e+00,\n",
       "           0.0000e+00, 1.1508e-02]],\n",
       "\n",
       "         ...,\n",
       "\n",
       "         [[0.0000e+00, 0.0000e+00, 6.9353e-01,  ..., 1.5469e+00,\n",
       "           3.3174e+00, 3.3251e+00],\n",
       "          [0.0000e+00, 0.0000e+00, 9.3014e-01,  ..., 1.3807e+00,\n",
       "           7.1197e+00, 6.0149e+00],\n",
       "          [0.0000e+00, 0.0000e+00, 0.0000e+00,  ..., 2.3785e+00,\n",
       "           4.6904e+00, 1.9715e+00],\n",
       "          ...,\n",
       "          [2.8900e+00, 2.7377e+00, 1.2323e+00,  ..., 1.4253e+00,\n",
       "           0.0000e+00, 0.0000e+00],\n",
       "          [1.6947e+00, 8.7701e-01, 0.0000e+00,  ..., 5.5414e+00,\n",
       "           6.3615e+00, 3.6208e+00],\n",
       "          [2.0358e+00, 2.3899e+00, 0.0000e+00,  ..., 3.8271e+00,\n",
       "           5.1627e+00, 3.1623e+00]],\n",
       "\n",
       "         [[0.0000e+00, 0.0000e+00, 0.0000e+00,  ..., 2.5743e-01,\n",
       "           4.8472e-01, 1.9960e-01],\n",
       "          [2.6309e-01, 0.0000e+00, 1.1239e+00,  ..., 2.4798e+00,\n",
       "           2.8181e+00, 1.7691e+00],\n",
       "          [0.0000e+00, 0.0000e+00, 0.0000e+00,  ..., 2.0736e+00,\n",
       "           5.4175e+00, 5.1540e+00],\n",
       "          ...,\n",
       "          [0.0000e+00, 0.0000e+00, 3.7205e-02,  ..., 5.5930e-01,\n",
       "           1.0571e+00, 2.0680e-01],\n",
       "          [1.6932e+00, 6.4166e+00, 4.8304e+00,  ..., 2.9950e+00,\n",
       "           4.5527e+00, 1.9525e+00],\n",
       "          [8.4647e-01, 3.0773e+00, 9.8227e-01,  ..., 8.8391e-01,\n",
       "           1.3598e+00, 2.5218e-01]],\n",
       "\n",
       "         [[1.0124e+00, 2.9769e+00, 3.1085e+00,  ..., 2.8557e-01,\n",
       "           0.0000e+00, 0.0000e+00],\n",
       "          [6.9769e-01, 2.2922e+00, 2.4933e+00,  ..., 2.0546e-01,\n",
       "           0.0000e+00, 0.0000e+00],\n",
       "          [1.0444e+00, 1.8496e+00, 9.3855e-01,  ..., 0.0000e+00,\n",
       "           0.0000e+00, 0.0000e+00],\n",
       "          ...,\n",
       "          [0.0000e+00, 0.0000e+00, 2.9361e-01,  ..., 0.0000e+00,\n",
       "           1.9457e+00, 2.2070e+00],\n",
       "          [0.0000e+00, 3.5597e-01, 2.7942e+00,  ..., 2.9645e+00,\n",
       "           3.2879e+00, 1.7272e+00],\n",
       "          [1.7547e+00, 2.2179e+00, 2.5215e+00,  ..., 3.6413e+00,\n",
       "           2.7052e+00, 3.1029e-01]]],\n",
       "\n",
       "\n",
       "        [[[0.0000e+00, 1.7442e-04, 1.4931e-04,  ..., 9.8344e-04,\n",
       "           2.5505e-03, 4.1986e-04],\n",
       "          [1.6169e-03, 8.2496e-04, 0.0000e+00,  ..., 7.3770e-04,\n",
       "           7.5513e-04, 0.0000e+00],\n",
       "          [6.2146e-04, 0.0000e+00, 0.0000e+00,  ..., 0.0000e+00,\n",
       "           1.8555e-05, 1.2374e-03],\n",
       "          ...,\n",
       "          [1.7021e-04, 0.0000e+00, 1.8519e-04,  ..., 0.0000e+00,\n",
       "           2.3517e-04, 2.0669e-03],\n",
       "          [7.3012e-04, 1.1493e-04, 0.0000e+00,  ..., 0.0000e+00,\n",
       "           4.6926e-04, 1.3999e-03],\n",
       "          [0.0000e+00, 0.0000e+00, 0.0000e+00,  ..., 0.0000e+00,\n",
       "           0.0000e+00, 0.0000e+00]],\n",
       "\n",
       "         [[6.5429e-03, 0.0000e+00, 7.0497e-03,  ..., 0.0000e+00,\n",
       "           1.2580e-02, 1.8910e-02],\n",
       "          [1.2028e-02, 2.2149e-02, 1.7591e-05,  ..., 3.4594e-03,\n",
       "           2.5542e-02, 3.2603e-02],\n",
       "          [6.9345e-03, 0.0000e+00, 0.0000e+00,  ..., 6.3923e-03,\n",
       "           0.0000e+00, 1.0319e-02],\n",
       "          ...,\n",
       "          [0.0000e+00, 5.3826e-03, 8.2195e-03,  ..., 2.3399e-03,\n",
       "           1.1376e-03, 1.2723e-02],\n",
       "          [0.0000e+00, 1.0086e-02, 2.1855e-04,  ..., 0.0000e+00,\n",
       "           0.0000e+00, 1.4717e-02],\n",
       "          [0.0000e+00, 0.0000e+00, 0.0000e+00,  ..., 0.0000e+00,\n",
       "           7.6898e-03, 0.0000e+00]],\n",
       "\n",
       "         [[0.0000e+00, 0.0000e+00, 2.5940e-03,  ..., 3.2533e-03,\n",
       "           3.8366e-03, 0.0000e+00],\n",
       "          [0.0000e+00, 0.0000e+00, 3.1790e-03,  ..., 2.0409e-03,\n",
       "           2.8876e-03, 4.6508e-04],\n",
       "          [0.0000e+00, 5.2085e-03, 0.0000e+00,  ..., 0.0000e+00,\n",
       "           3.9826e-05, 3.5695e-03],\n",
       "          ...,\n",
       "          [0.0000e+00, 3.1586e-03, 0.0000e+00,  ..., 4.4074e-03,\n",
       "           8.2924e-03, 5.1037e-03],\n",
       "          [0.0000e+00, 0.0000e+00, 1.6399e-03,  ..., 7.4061e-03,\n",
       "           3.1110e-03, 1.1525e-02],\n",
       "          [0.0000e+00, 3.2131e-03, 2.8248e-03,  ..., 7.5467e-03,\n",
       "           3.7964e-03, 5.7532e-03]],\n",
       "\n",
       "         ...,\n",
       "\n",
       "         [[0.0000e+00, 0.0000e+00, 0.0000e+00,  ..., 0.0000e+00,\n",
       "           0.0000e+00, 0.0000e+00],\n",
       "          [0.0000e+00, 0.0000e+00, 3.7378e-01,  ..., 7.8570e-01,\n",
       "           0.0000e+00, 7.0019e-01],\n",
       "          [2.6040e-02, 1.2023e+00, 3.0859e+00,  ..., 2.3118e+00,\n",
       "           0.0000e+00, 4.7523e-01],\n",
       "          ...,\n",
       "          [7.6849e-01, 2.2575e+00, 1.2915e+00,  ..., 2.5498e+00,\n",
       "           5.0865e+00, 3.4933e+00],\n",
       "          [2.0124e+00, 2.9759e+00, 3.2672e+00,  ..., 7.6583e+00,\n",
       "           6.0525e+00, 3.4262e+00],\n",
       "          [0.0000e+00, 0.0000e+00, 1.7316e+00,  ..., 6.2319e+00,\n",
       "           4.4585e+00, 3.4045e+00]],\n",
       "\n",
       "         [[2.3133e+00, 3.0089e+00, 2.7505e+00,  ..., 3.4326e-01,\n",
       "           1.0868e+00, 0.0000e+00],\n",
       "          [2.9160e+00, 2.7486e+00, 2.4286e+00,  ..., 8.4175e-01,\n",
       "           2.8792e+00, 1.5977e+00],\n",
       "          [3.7683e-01, 8.2476e-01, 8.2689e-01,  ..., 0.0000e+00,\n",
       "           0.0000e+00, 0.0000e+00],\n",
       "          ...,\n",
       "          [0.0000e+00, 0.0000e+00, 0.0000e+00,  ..., 0.0000e+00,\n",
       "           0.0000e+00, 0.0000e+00],\n",
       "          [0.0000e+00, 0.0000e+00, 8.7850e-02,  ..., 5.5641e-01,\n",
       "           0.0000e+00, 0.0000e+00],\n",
       "          [0.0000e+00, 0.0000e+00, 2.5896e-01,  ..., 8.8749e-01,\n",
       "           0.0000e+00, 0.0000e+00]],\n",
       "\n",
       "         [[1.2889e+00, 1.7253e+00, 1.1544e+00,  ..., 4.5661e-01,\n",
       "           1.3737e+00, 1.6637e+00],\n",
       "          [3.2994e+00, 3.6615e+00, 1.4477e+00,  ..., 2.8275e-01,\n",
       "           1.2939e+00, 1.7450e+00],\n",
       "          [3.5894e+00, 4.9902e+00, 2.3174e+00,  ..., 3.3780e-01,\n",
       "           1.1534e+00, 1.3009e+00],\n",
       "          ...,\n",
       "          [4.1971e+00, 4.5329e+00, 1.5927e-01,  ..., 2.2375e-01,\n",
       "           0.0000e+00, 0.0000e+00],\n",
       "          [4.6984e+00, 7.1231e+00, 3.4557e+00,  ..., 5.9441e-01,\n",
       "           3.7240e+00, 3.1221e+00],\n",
       "          [3.8845e+00, 6.1417e+00, 3.5359e+00,  ..., 5.3799e-01,\n",
       "           2.8503e+00, 2.2445e+00]]]], grad_fn=<ReluBackward1>)"
      ]
     },
     "execution_count": 320,
     "metadata": {},
     "output_type": "execute_result"
    }
   ],
   "source": [
    "ori2"
   ]
  },
  {
   "cell_type": "code",
   "execution_count": 247,
   "metadata": {
    "ExecuteTime": {
     "end_time": "2020-06-11T14:18:30.276543Z",
     "start_time": "2020-06-11T14:18:30.106922Z"
    }
   },
   "outputs": [
    {
     "data": {
      "text/plain": [
       "<All keys matched successfully>"
      ]
     },
     "execution_count": 247,
     "metadata": {},
     "output_type": "execute_result"
    }
   ],
   "source": [
    "model_urls = {\n",
    "    'densenet121': 'https://download.pytorch.org/models/densenet121-a639ec97.pth',\n",
    "    'densenet169': 'https://download.pytorch.org/models/densenet169-b2777c0a.pth',\n",
    "    'densenet201': 'https://download.pytorch.org/models/densenet201-c1103571.pth',\n",
    "    'densenet161': 'https://download.pytorch.org/models/densenet161-8d451a50.pth',\n",
    "}\n",
    "pattern = re.compile(\n",
    "    r'^(.*denselayer\\d+\\.(?:norm|relu|conv))\\.((?:[12])\\.(?:weight|bias|running_mean|running_var))$')\n",
    "state_dict = model_zoo.load_url(model_urls['densenet121'])\n",
    "for key in list(state_dict.keys()):\n",
    "    res = pattern.match(key)\n",
    "    if res:\n",
    "        new_key = res.group(1) + res.group(2)\n",
    "        state_dict[new_key] = state_dict[key]\n",
    "        del state_dict[key]\n",
    "model.load_state_dict(state_dict)"
   ]
  },
  {
   "cell_type": "code",
   "execution_count": 165,
   "metadata": {
    "ExecuteTime": {
     "end_time": "2020-06-11T12:16:15.588873Z",
     "start_time": "2020-06-11T12:16:14.826419Z"
    }
   },
   "outputs": [
    {
     "name": "stdout",
     "output_type": "stream",
     "text": [
      "features2: torch.Size([3, 256, 16, 16])\n",
      "features3: torch.Size([3, 512, 8, 8])\n",
      "torch.Size([3, 1024, 8, 8])\n",
      "torch.Size([3, 1024])\n"
     ]
    }
   ],
   "source": []
  },
  {
   "cell_type": "code",
   "execution_count": 169,
   "metadata": {
    "ExecuteTime": {
     "end_time": "2020-06-11T12:16:29.804317Z",
     "start_time": "2020-06-11T12:16:29.795135Z"
    }
   },
   "outputs": [
    {
     "data": {
      "text/plain": [
       "torch.Size([3, 256])"
      ]
     },
     "execution_count": 169,
     "metadata": {},
     "output_type": "execute_result"
    }
   ],
   "source": [
    "fea[0].shape"
   ]
  },
  {
   "cell_type": "markdown",
   "metadata": {},
   "source": [
    "# test BNM"
   ]
  },
  {
   "cell_type": "code",
   "execution_count": null,
   "metadata": {},
   "outputs": [],
   "source": [
    "import os\n",
    "import sys\n",
    "# from tensorboardX import SummaryWriter\n",
    "import shutil\n",
    "import argparse\n",
    "import logging\n",
    "import time\n",
    "import random\n",
    "import numpy as np\n",
    "import pandas as pd\n",
    "from tensorboardX import SummaryWriter\n",
    "\n",
    "import torch\n",
    "from torch import nn\n",
    "import torch.optim as optim\n",
    "from torchvision import transforms\n",
    "import torch.nn.functional as F\n",
    "import torch.backends.cudnn as cudnn\n",
    "from torch.utils.data import DataLoader\n",
    "from torchvision.utils import make_grid\n",
    "import pretrainedmodels\n",
    "\n",
    "from networks.models import DenseNet121,DenseNet161\n",
    "from utils import losses, ramps\n",
    "from utils.metrics import compute_AUCs\n",
    "from utils.metric_logger import MetricLogger\n",
    "from dataloaders import  dataset\n",
    "from dataloaders import chest_xray_14\n",
    "from dataloaders.dataset import TwoStreamBatchSampler\n",
    "from utils.util import get_timestamp\n",
    "from validation import epochVal, epochVal_metrics"
   ]
  },
  {
   "cell_type": "code",
   "execution_count": 4,
   "metadata": {
    "ExecuteTime": {
     "end_time": "2020-06-16T01:47:50.756587Z",
     "start_time": "2020-06-16T01:47:50.722180Z"
    }
   },
   "outputs": [
    {
     "name": "stdout",
     "output_type": "stream",
     "text": [
      "single label  Total # images:2015, labels:2015\n",
      "train_dataset len: 2015\n"
     ]
    }
   ],
   "source": [
    "normalize = transforms.Normalize([0.605, 0.605, 0.605],\n",
    "                                     [0.156, 0.156, 0.156])\n",
    "resize = 224\n",
    "test_dataset = dataset.CheXpertDataset(root_dir='../dataset/skin/training_data/',\n",
    "                                        csv_file='../dataset/skin/testing.csv',\n",
    "                                        transform=transforms.Compose([\n",
    "                                              transforms.Resize((resize, resize)),\n",
    "                                              transforms.ToTensor(),\n",
    "                                              normalize,\n",
    "                                        ]))\n",
    "print(\"train_dataset len:\",len(test_dataset))\n",
    "test_dataloader = DataLoader(dataset=test_dataset, batch_size=1,\n",
    "                                shuffle=False, num_workers=8, pin_memory=True)#, worker_init_fn=worker_init_fn)\n",
    "    "
   ]
  },
  {
   "cell_type": "code",
   "execution_count": 24,
   "metadata": {
    "ExecuteTime": {
     "end_time": "2020-06-16T04:40:11.323471Z",
     "start_time": "2020-06-16T04:40:09.951898Z"
    }
   },
   "outputs": [
    {
     "data": {
      "text/plain": [
       "<All keys matched successfully>"
      ]
     },
     "execution_count": 24,
     "metadata": {},
     "output_type": "execute_result"
    }
   ],
   "source": [
    "model_baseline = DenseNet121(out_size=7, mode='U-Ones', drop_rate=0.2)\n",
    "model_bnm = DenseNet121(out_size=7, mode='U-Ones', drop_rate=0.2)\n",
    "model_baseline = torch.nn.DataParallel(model_baseline).cuda()\n",
    "model_bnm = torch.nn.DataParallel(model_bnm).cuda()\n",
    "#checkpoint_baseline = torch.load(\"../model/skin_frac01_baseline/epoch_92.pth\")\n",
    "checkpoint_baseline = torch.load(\"../model/skin_frac01_src_mt/epoch_30.pth\")\n",
    "checkpoint_bnm = torch.load(\"../model/skin_frac01_best/epoch_61.pth\")\n",
    "model_baseline.load_state_dict(checkpoint_baseline['state_dict'])\n",
    "model_bnm.load_state_dict(checkpoint_bnm['state_dict'])\n"
   ]
  },
  {
   "cell_type": "code",
   "execution_count": null,
   "metadata": {
    "ExecuteTime": {
     "start_time": "2020-06-16T05:13:19.694Z"
    }
   },
   "outputs": [
    {
     "name": "stdout",
     "output_type": "stream",
     "text": [
      "label: tensor([1], device='cuda:0')\n",
      "baseline pred: [[0.48669344 0.50610346 0.00154068 0.00109938 0.00135143 0.00170069\n",
      "  0.00151088]]\n",
      "bnm pred: [[3.3890566e-01 6.5833402e-01 5.8373372e-04 4.6059382e-04 5.0013507e-04\n",
      "  5.8292289e-04 6.3287845e-04]]\n",
      "label: tensor([1], device='cuda:0')\n",
      "baseline pred: [[0.3914156  0.5981205  0.00402105 0.00201832 0.0011731  0.00208005\n",
      "  0.0011713 ]]\n",
      "bnm pred: [[3.1052822e-01 6.8508112e-01 1.2238909e-03 8.2659681e-04 5.8657967e-04\n",
      "  1.1385076e-03 6.1510463e-04]]\n"
     ]
    }
   ],
   "source": [
    "model_baseline.eval()\n",
    "model_bnm.eval()\n",
    "cnt_total = 0\n",
    "cnt_06 = 0\n",
    "for i,(study, _, image, label) in enumerate(test_dataloader):\n",
    "    image, label = image.cuda(), label.cuda()\n",
    "    _,output_baseline = model_baseline(image)\n",
    "    _,output_bnm = model_bnm(image)\n",
    "    output_baseline = F.softmax(output_baseline,dim=1)\n",
    "    output_bnm = F.softmax(output_bnm,dim=1)\n",
    "    label = torch.max(label, 1)[1]\n",
    "    label_baseline = torch.max(output_baseline, 1)[1]\n",
    "    label_bnm = torch.max(output_bnm, 1)[1]\n",
    "    output_baseline_np = output_baseline.cpu().detach().numpy()\n",
    "    output_bnm_np = output_bnm.cpu().detach().numpy()\n",
    "    if label == 1 and label_bnm == 1:\n",
    "        cnt_total+=1\n",
    "        \n",
    "        \n",
    "        if np.max(output_baseline_np)<0.6:\n",
    "            print(\"label:\",label)\n",
    "            cnt_06+=1\n",
    "            print(\"baseline pred:\",output_baseline_np)\n",
    "            print(\"bnm pred:\",output_bnm_np)"
   ]
  },
  {
   "cell_type": "code",
   "execution_count": 26,
   "metadata": {
    "ExecuteTime": {
     "end_time": "2020-06-16T05:09:32.509072Z",
     "start_time": "2020-06-16T05:09:32.500919Z"
    }
   },
   "outputs": [
    {
     "data": {
      "text/plain": [
       "131"
      ]
     },
     "execution_count": 26,
     "metadata": {},
     "output_type": "execute_result"
    }
   ],
   "source": [
    "cnt_total"
   ]
  },
  {
   "cell_type": "code",
   "execution_count": 27,
   "metadata": {
    "ExecuteTime": {
     "end_time": "2020-06-16T05:09:47.905662Z",
     "start_time": "2020-06-16T05:09:47.900258Z"
    }
   },
   "outputs": [
    {
     "data": {
      "text/plain": [
       "29"
      ]
     },
     "execution_count": 27,
     "metadata": {},
     "output_type": "execute_result"
    }
   ],
   "source": [
    "cnt_06"
   ]
  },
  {
   "cell_type": "code",
   "execution_count": null,
   "metadata": {},
   "outputs": [],
   "source": []
  }
 ],
 "metadata": {
  "gist": {
   "data": {
    "description": "Untitled.ipynb",
    "public": false
   },
   "id": ""
  },
  "kernelspec": {
   "display_name": "'Python Interactive'",
   "language": "python",
   "name": "e9217d90-e63e-4b01-86e9-b3407b16b732"
  },
  "language_info": {
   "codemirror_mode": {
    "name": "ipython",
    "version": 3
   },
   "file_extension": ".py",
   "mimetype": "text/x-python",
   "name": "python",
   "nbconvert_exporter": "python",
   "pygments_lexer": "ipython3",
   "version": "3.7.4"
  },
  "toc": {
   "base_numbering": 1,
   "nav_menu": {},
   "number_sections": true,
   "sideBar": true,
   "skip_h1_title": false,
   "title_cell": "Table of Contents",
   "title_sidebar": "Contents",
   "toc_cell": false,
   "toc_position": {
    "height": "calc(100% - 180px)",
    "left": "10px",
    "top": "150px",
    "width": "272px"
   },
   "toc_section_display": true,
   "toc_window_display": true
  },
  "varInspector": {
   "cols": {
    "lenName": 16,
    "lenType": 16,
    "lenVar": 40
   },
   "kernels_config": {
    "python": {
     "delete_cmd_postfix": "",
     "delete_cmd_prefix": "del ",
     "library": "var_list.py",
     "varRefreshCmd": "print(var_dic_list())"
    },
    "r": {
     "delete_cmd_postfix": ") ",
     "delete_cmd_prefix": "rm(",
     "library": "var_list.r",
     "varRefreshCmd": "cat(var_dic_list()) "
    }
   },
   "types_to_exclude": [
    "module",
    "function",
    "builtin_function_or_method",
    "instance",
    "_Feature"
   ],
   "window_display": false
  }
 },
 "nbformat": 4,
 "nbformat_minor": 4
}
